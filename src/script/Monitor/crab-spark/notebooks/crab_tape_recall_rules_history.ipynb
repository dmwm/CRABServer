{
 "cells": [
  {
   "cell_type": "code",
   "execution_count": null,
   "id": "2fe94c82",
   "metadata": {},
   "outputs": [],
   "source": []
  },
  {
   "cell_type": "code",
   "execution_count": 1,
   "id": "9f91521a",
   "metadata": {},
   "outputs": [
    {
     "data": {
      "text/html": [
       "\n",
       "            <div>\n",
       "                <p><b>SparkSession - in-memory</b></p>\n",
       "                \n",
       "        <div>\n",
       "            <p><b>SparkContext</b></p>\n",
       "\n",
       "            <p><a href=\"http://swan-prod-2xlarge-h2ohj7sq3fe3-node-12:30968\">Spark UI</a></p>\n",
       "\n",
       "            <dl>\n",
       "              <dt>Version</dt>\n",
       "                <dd><code>v3.3.2</code></dd>\n",
       "              <dt>Master</dt>\n",
       "                <dd><code>yarn</code></dd>\n",
       "              <dt>AppName</dt>\n",
       "                <dd><code>pyspark_shell_swan</code></dd>\n",
       "            </dl>\n",
       "        </div>\n",
       "        \n",
       "            </div>\n",
       "        "
      ],
      "text/plain": [
       "<pyspark.sql.session.SparkSession at 0x7fdbd3478be0>"
      ]
     },
     "execution_count": 1,
     "metadata": {},
     "output_type": "execute_result"
    }
   ],
   "source": [
    "spark"
   ]
  },
  {
   "cell_type": "code",
   "execution_count": 2,
   "id": "666f70d9",
   "metadata": {},
   "outputs": [],
   "source": [
    "# !hdfs dfs -stat /project/awg/cms/rucio/2023-07-31/"
   ]
  },
  {
   "cell_type": "code",
   "execution_count": 2,
   "id": "bd6751a6",
   "metadata": {},
   "outputs": [
    {
     "name": "stdout",
     "output_type": "stream",
     "text": [
      "23/08/01 17:05:11 WARN ipc.Client: Exception encountered while connecting to the server \n",
      "org.apache.hadoop.ipc.RemoteException(org.apache.hadoop.ipc.StandbyException): Operation category READ is not supported in state standby. Visit https://s.apache.org/sbnn-error\n",
      "\tat org.apache.hadoop.security.SaslRpcClient.saslConnect(SaslRpcClient.java:376)\n",
      "\tat org.apache.hadoop.ipc.Client$Connection.setupSaslConnection(Client.java:622)\n",
      "\tat org.apache.hadoop.ipc.Client$Connection.access$2300(Client.java:413)\n",
      "\tat org.apache.hadoop.ipc.Client$Connection$2.run(Client.java:822)\n",
      "\tat org.apache.hadoop.ipc.Client$Connection$2.run(Client.java:818)\n",
      "\tat java.base/java.security.AccessController.doPrivileged(Native Method)\n",
      "\tat java.base/javax.security.auth.Subject.doAs(Subject.java:423)\n",
      "\tat org.apache.hadoop.security.UserGroupInformation.doAs(UserGroupInformation.java:1845)\n",
      "\tat org.apache.hadoop.ipc.Client$Connection.setupIOstreams(Client.java:818)\n",
      "\tat org.apache.hadoop.ipc.Client$Connection.access$3800(Client.java:413)\n",
      "\tat org.apache.hadoop.ipc.Client.getConnection(Client.java:1636)\n",
      "\tat org.apache.hadoop.ipc.Client.call(Client.java:1452)\n",
      "\tat org.apache.hadoop.ipc.Client.call(Client.java:1405)\n",
      "\tat org.apache.hadoop.ipc.ProtobufRpcEngine2$Invoker.invoke(ProtobufRpcEngine2.java:234)\n",
      "\tat org.apache.hadoop.ipc.ProtobufRpcEngine2$Invoker.invoke(ProtobufRpcEngine2.java:119)\n",
      "\tat com.sun.proxy.$Proxy12.getFileInfo(Unknown Source)\n",
      "\tat org.apache.hadoop.hdfs.protocolPB.ClientNamenodeProtocolTranslatorPB.getFileInfo(ClientNamenodeProtocolTranslatorPB.java:964)\n",
      "\tat java.base/jdk.internal.reflect.NativeMethodAccessorImpl.invoke0(Native Method)\n",
      "\tat java.base/jdk.internal.reflect.NativeMethodAccessorImpl.invoke(NativeMethodAccessorImpl.java:62)\n",
      "\tat java.base/jdk.internal.reflect.DelegatingMethodAccessorImpl.invoke(DelegatingMethodAccessorImpl.java:43)\n",
      "\tat java.base/java.lang.reflect.Method.invoke(Method.java:566)\n",
      "\tat org.apache.hadoop.io.retry.RetryInvocationHandler.invokeMethod(RetryInvocationHandler.java:422)\n",
      "\tat org.apache.hadoop.io.retry.RetryInvocationHandler$Call.invokeMethod(RetryInvocationHandler.java:165)\n",
      "\tat org.apache.hadoop.io.retry.RetryInvocationHandler$Call.invoke(RetryInvocationHandler.java:157)\n",
      "\tat org.apache.hadoop.io.retry.RetryInvocationHandler$Call.invokeOnce(RetryInvocationHandler.java:95)\n",
      "\tat org.apache.hadoop.io.retry.RetryInvocationHandler.invoke(RetryInvocationHandler.java:359)\n",
      "\tat com.sun.proxy.$Proxy13.getFileInfo(Unknown Source)\n",
      "\tat org.apache.hadoop.hdfs.DFSClient.getFileInfo(DFSClient.java:1731)\n",
      "\tat org.apache.hadoop.hdfs.DistributedFileSystem$29.doCall(DistributedFileSystem.java:1725)\n",
      "\tat org.apache.hadoop.hdfs.DistributedFileSystem$29.doCall(DistributedFileSystem.java:1722)\n",
      "\tat org.apache.hadoop.fs.FileSystemLinkResolver.resolve(FileSystemLinkResolver.java:81)\n",
      "\tat org.apache.hadoop.hdfs.DistributedFileSystem.getFileStatus(DistributedFileSystem.java:1737)\n",
      "\tat org.apache.hadoop.fs.Globber.getFileStatus(Globber.java:115)\n",
      "\tat org.apache.hadoop.fs.Globber.doGlob(Globber.java:349)\n",
      "\tat org.apache.hadoop.fs.Globber.glob(Globber.java:202)\n",
      "\tat org.apache.hadoop.fs.FileSystem.globStatus(FileSystem.java:2093)\n",
      "\tat org.apache.hadoop.fs.shell.PathData.expandAsGlob(PathData.java:353)\n",
      "\tat org.apache.hadoop.fs.shell.Command.expandArgument(Command.java:250)\n",
      "\tat org.apache.hadoop.fs.shell.Command.expandArguments(Command.java:233)\n",
      "\tat org.apache.hadoop.fs.shell.FsCommand.processRawArguments(FsCommand.java:104)\n",
      "\tat org.apache.hadoop.fs.shell.Command.run(Command.java:177)\n",
      "\tat org.apache.hadoop.fs.FsShell.run(FsShell.java:327)\n",
      "\tat org.apache.hadoop.util.ToolRunner.run(ToolRunner.java:76)\n",
      "\tat org.apache.hadoop.util.ToolRunner.run(ToolRunner.java:90)\n",
      "\tat org.apache.hadoop.fs.FsShell.main(FsShell.java:390)\n",
      "Found 41 items\n",
      "-rw-r--r-x+  3 cmssqoop c3          0 2023-07-24 04:36 /project/awg/cms/rucio/2023-07-24/rules_history/_SUCCESS\n",
      "-rw-r--r-x+  3 cmssqoop c3   88187830 2023-07-24 04:35 /project/awg/cms/rucio/2023-07-24/rules_history/part-m-00000.avro\n",
      "-rw-r--r-x+  3 cmssqoop c3   78573788 2023-07-24 04:35 /project/awg/cms/rucio/2023-07-24/rules_history/part-m-00001.avro\n",
      "-rw-r--r-x+  3 cmssqoop c3   89288020 2023-07-24 04:36 /project/awg/cms/rucio/2023-07-24/rules_history/part-m-00002.avro\n",
      "-rw-r--r-x+  3 cmssqoop c3   87120186 2023-07-24 04:36 /project/awg/cms/rucio/2023-07-24/rules_history/part-m-00003.avro\n",
      "-rw-r--r-x+  3 cmssqoop c3   84145506 2023-07-24 04:36 /project/awg/cms/rucio/2023-07-24/rules_history/part-m-00004.avro\n",
      "-rw-r--r-x+  3 cmssqoop c3   77023084 2023-07-24 04:35 /project/awg/cms/rucio/2023-07-24/rules_history/part-m-00005.avro\n",
      "-rw-r--r-x+  3 cmssqoop c3   82231949 2023-07-24 04:35 /project/awg/cms/rucio/2023-07-24/rules_history/part-m-00006.avro\n",
      "-rw-r--r-x+  3 cmssqoop c3   90427579 2023-07-24 04:35 /project/awg/cms/rucio/2023-07-24/rules_history/part-m-00007.avro\n",
      "-rw-r--r-x+  3 cmssqoop c3   83505019 2023-07-24 04:36 /project/awg/cms/rucio/2023-07-24/rules_history/part-m-00008.avro\n",
      "-rw-r--r-x+  3 cmssqoop c3   81737327 2023-07-24 04:35 /project/awg/cms/rucio/2023-07-24/rules_history/part-m-00009.avro\n",
      "-rw-r--r-x+  3 cmssqoop c3   89063315 2023-07-24 04:36 /project/awg/cms/rucio/2023-07-24/rules_history/part-m-00010.avro\n",
      "-rw-r--r-x+  3 cmssqoop c3   87547076 2023-07-24 04:36 /project/awg/cms/rucio/2023-07-24/rules_history/part-m-00011.avro\n",
      "-rw-r--r-x+  3 cmssqoop c3   76025866 2023-07-24 04:35 /project/awg/cms/rucio/2023-07-24/rules_history/part-m-00012.avro\n",
      "-rw-r--r-x+  3 cmssqoop c3   86124517 2023-07-24 04:36 /project/awg/cms/rucio/2023-07-24/rules_history/part-m-00013.avro\n",
      "-rw-r--r-x+  3 cmssqoop c3   84209698 2023-07-24 04:35 /project/awg/cms/rucio/2023-07-24/rules_history/part-m-00014.avro\n",
      "-rw-r--r-x+  3 cmssqoop c3   87883924 2023-07-24 04:36 /project/awg/cms/rucio/2023-07-24/rules_history/part-m-00015.avro\n",
      "-rw-r--r-x+  3 cmssqoop c3   84024611 2023-07-24 04:36 /project/awg/cms/rucio/2023-07-24/rules_history/part-m-00016.avro\n",
      "-rw-r--r-x+  3 cmssqoop c3   88549765 2023-07-24 04:35 /project/awg/cms/rucio/2023-07-24/rules_history/part-m-00017.avro\n",
      "-rw-r--r-x+  3 cmssqoop c3   78591247 2023-07-24 04:35 /project/awg/cms/rucio/2023-07-24/rules_history/part-m-00018.avro\n",
      "-rw-r--r-x+  3 cmssqoop c3   88304711 2023-07-24 04:36 /project/awg/cms/rucio/2023-07-24/rules_history/part-m-00019.avro\n",
      "-rw-r--r-x+  3 cmssqoop c3   84004574 2023-07-24 04:36 /project/awg/cms/rucio/2023-07-24/rules_history/part-m-00020.avro\n",
      "-rw-r--r-x+  3 cmssqoop c3   84661738 2023-07-24 04:35 /project/awg/cms/rucio/2023-07-24/rules_history/part-m-00021.avro\n",
      "-rw-r--r-x+  3 cmssqoop c3   78502498 2023-07-24 04:36 /project/awg/cms/rucio/2023-07-24/rules_history/part-m-00022.avro\n",
      "-rw-r--r-x+  3 cmssqoop c3   91523366 2023-07-24 04:36 /project/awg/cms/rucio/2023-07-24/rules_history/part-m-00023.avro\n",
      "-rw-r--r-x+  3 cmssqoop c3   77450183 2023-07-24 04:35 /project/awg/cms/rucio/2023-07-24/rules_history/part-m-00024.avro\n",
      "-rw-r--r-x+  3 cmssqoop c3   92852942 2023-07-24 04:36 /project/awg/cms/rucio/2023-07-24/rules_history/part-m-00025.avro\n",
      "-rw-r--r-x+  3 cmssqoop c3   85201132 2023-07-24 04:35 /project/awg/cms/rucio/2023-07-24/rules_history/part-m-00026.avro\n",
      "-rw-r--r-x+  3 cmssqoop c3   83220428 2023-07-24 04:36 /project/awg/cms/rucio/2023-07-24/rules_history/part-m-00027.avro\n",
      "-rw-r--r-x+  3 cmssqoop c3   72640822 2023-07-24 04:36 /project/awg/cms/rucio/2023-07-24/rules_history/part-m-00028.avro\n",
      "-rw-r--r-x+  3 cmssqoop c3   74597749 2023-07-24 04:35 /project/awg/cms/rucio/2023-07-24/rules_history/part-m-00029.avro\n",
      "-rw-r--r-x+  3 cmssqoop c3   83142949 2023-07-24 04:35 /project/awg/cms/rucio/2023-07-24/rules_history/part-m-00030.avro\n",
      "-rw-r--r-x+  3 cmssqoop c3   86601475 2023-07-24 04:36 /project/awg/cms/rucio/2023-07-24/rules_history/part-m-00031.avro\n",
      "-rw-r--r-x+  3 cmssqoop c3   90497549 2023-07-24 04:36 /project/awg/cms/rucio/2023-07-24/rules_history/part-m-00032.avro\n",
      "-rw-r--r-x+  3 cmssqoop c3   88555030 2023-07-24 04:36 /project/awg/cms/rucio/2023-07-24/rules_history/part-m-00033.avro\n",
      "-rw-r--r-x+  3 cmssqoop c3   78799199 2023-07-24 04:35 /project/awg/cms/rucio/2023-07-24/rules_history/part-m-00034.avro\n",
      "-rw-r--r-x+  3 cmssqoop c3   80642314 2023-07-24 04:35 /project/awg/cms/rucio/2023-07-24/rules_history/part-m-00035.avro\n",
      "-rw-r--r-x+  3 cmssqoop c3   85967465 2023-07-24 04:35 /project/awg/cms/rucio/2023-07-24/rules_history/part-m-00036.avro\n",
      "-rw-r--r-x+  3 cmssqoop c3   92843317 2023-07-24 04:36 /project/awg/cms/rucio/2023-07-24/rules_history/part-m-00037.avro\n",
      "-rw-r--r-x+  3 cmssqoop c3   83861741 2023-07-24 04:36 /project/awg/cms/rucio/2023-07-24/rules_history/part-m-00038.avro\n",
      "-rw-r--r-x+  3 cmssqoop c3   91545885 2023-07-24 04:36 /project/awg/cms/rucio/2023-07-24/rules_history/part-m-00039.avro\n"
     ]
    }
   ],
   "source": [
    "!hdfs dfs -ls /project/awg/cms/rucio/2023-07-24/rules_history #02:54:14"
   ]
  },
  {
   "cell_type": "code",
   "execution_count": 3,
   "id": "800a2f9e",
   "metadata": {},
   "outputs": [],
   "source": [
    "import pickle\n",
    "from datetime import datetime, timedelta\n",
    "\n",
    "import click\n",
    "import os\n",
    "import pandas as pd\n",
    "import pprint\n",
    "import time\n",
    "from dateutil.relativedelta import relativedelta\n",
    "from pyspark import SparkContext, StorageLevel\n",
    "from pyspark.sql import SparkSession\n",
    "from pyspark.sql.functions import (\n",
    "    col, collect_list, concat_ws, greatest, lit, lower, when,\n",
    "    avg as _avg,\n",
    "    count as _count,\n",
    "    hex as _hex,\n",
    "    max as _max,\n",
    "    min as _min,\n",
    "    round as _round,\n",
    "    sum as _sum,\n",
    ")\n",
    "\n",
    "from pyspark.sql.types import (\n",
    "    LongType,\n",
    ")\n",
    "\n",
    "#from CMSSpark.src.python.CMSSpark import schemas as cms_schemas"
   ]
  },
  {
   "cell_type": "code",
   "execution_count": 4,
   "id": "6951caed",
   "metadata": {},
   "outputs": [],
   "source": [
    "#from CMSSpark import schemas as cms_schemas"
   ]
  },
  {
   "cell_type": "code",
   "execution_count": null,
   "id": "4e78c524",
   "metadata": {},
   "outputs": [],
   "source": []
  },
  {
   "cell_type": "markdown",
   "id": "e597820f",
   "metadata": {},
   "source": [
    "## load dataset"
   ]
  },
  {
   "cell_type": "code",
   "execution_count": 16,
   "id": "2c100a92",
   "metadata": {},
   "outputs": [],
   "source": [
    "# end_date = str(datetime.now())[:10]\n",
    "# start_date = str(datetime.now()-timedelta(days=1))[:10]\n",
    "\n",
    "end_date = '2023-07-31'\n",
    "start_date = '2023-07-01'\n",
    "\n",
    "TOYEAR = end_date[:4]\n",
    "\n",
    "wa_date = end_date\n",
    "HDFS_RUCIO_DATASET_LOCKS = f'/project/awg/cms/rucio/{wa_date}/dataset_locks/part*.avro'\n",
    "HDFS_RUCIO_LOCKS =         f'/project/awg/cms/rucio/{wa_date}/locks'\n",
    "HDFS_RUCIO_RSES =          f'/project/awg/cms/rucio/{wa_date}/rses/part*.avro'\n",
    "HDFS_RUCIO_RULES =         f'/project/awg/cms/rucio/{wa_date}/rules'\n",
    "HDFS_RUCIO_RULES_HISTORY = f'/project/awg/cms/rucio/{wa_date}/rules_history'\n",
    "HDFS_RUCIO_REPLICAS =      f'/project/awg/cms/rucio/{wa_date}/replicas'"
   ]
  },
  {
   "cell_type": "code",
   "execution_count": 6,
   "id": "fe62d431",
   "metadata": {},
   "outputs": [],
   "source": [
    "# rucio_dataset_locks = spark.read.format('avro').load(HDFS_RUCIO_DATASET_LOCKS)\\\n",
    "#     .withColumn('BYTES', col('BYTES').cast(LongType()))\\\n",
    "#     .withColumn('RULE_ID', lower(_hex(col('RULE_ID'))))\\\n",
    "#     .withColumn('RSE_ID', lower(_hex(col('RSE_ID'))))\n",
    "# rucio_dataset_locks.createOrReplaceTempView(\"dataset_locks\")"
   ]
  },
  {
   "cell_type": "code",
   "execution_count": 7,
   "id": "b2e4fcfa",
   "metadata": {},
   "outputs": [],
   "source": [
    "# rucio_rses = spark.read.format('avro').load(HDFS_RUCIO_RSES)\\\n",
    "#     .withColumn('ID', lower(_hex(col('ID'))))\n",
    "# rucio_rses.createOrReplaceTempView(\"rses\")\n"
   ]
  },
  {
   "cell_type": "code",
   "execution_count": 8,
   "id": "3893197e",
   "metadata": {},
   "outputs": [],
   "source": [
    "# rucio_rules = spark.read.format('avro').load(HDFS_RUCIO_RULES)\\\n",
    "#     .withColumn('ID', lower(_hex(col('ID'))))\n",
    "# rucio_rules.createOrReplaceTempView(\"rules\")\n",
    "# #spark.sql(\"SELECT * FROM rules\").count()"
   ]
  },
  {
   "cell_type": "code",
   "execution_count": 9,
   "id": "f9f2ba4e",
   "metadata": {},
   "outputs": [],
   "source": [
    "# rucio_locks = spark.read.format('avro').load(HDFS_RUCIO_LOCKS)\\\n",
    "#     .withColumn('BYTES', col('BYTES').cast(LongType()))\\\n",
    "#     .withColumn('RULE_ID', lower(_hex(col('RULE_ID'))))\\\n",
    "#     .withColumn('RSE_ID', lower(_hex(col('RSE_ID'))))\n",
    "# rucio_locks.createOrReplaceTempView(\"locks\")"
   ]
  },
  {
   "cell_type": "code",
   "execution_count": 13,
   "id": "7771b12d",
   "metadata": {},
   "outputs": [],
   "source": [
    "rucio_rules_history = spark.read.format('avro').load(HDFS_RUCIO_RULES_HISTORY)\\\n",
    "    .withColumn('ID', lower(_hex(col('ID'))))\n",
    "    #.persist(StorageLevel.DISK_ONLY)\n",
    "rucio_rules_history = rucio_rules_history.select(\"ID\", \"NAME\", \"STATE\", \"EXPIRES_AT\", \"UPDATED_AT\", \"CREATED_AT\", \"ACCOUNT\")\n",
    "rucio_rules_history.createOrReplaceTempView(\"rules_history\")\n",
    "#spark.sql(\"SELECT * FROM rules_history\").count()"
   ]
  },
  {
   "cell_type": "code",
   "execution_count": 14,
   "id": "274421b8",
   "metadata": {},
   "outputs": [],
   "source": [
    "# rucio_replicas = spark.read.format('avro').load(HDFS_RUCIO_REPLICAS)\\\n",
    "#     .withColumn('RSE_ID', lower(_hex(col('RSE_ID'))))\n",
    "# rucio_replicas.createOrReplaceTempView(\"replicas\")\n",
    "# #spark.sql(\"SELECT * FROM replicas\").count()"
   ]
  },
  {
   "cell_type": "markdown",
   "id": "5c84635f",
   "metadata": {},
   "source": [
    "## Query"
   ]
  },
  {
   "cell_type": "markdown",
   "id": "ee99f580",
   "metadata": {},
   "source": [
    "# how long does it take ?"
   ]
  },
  {
   "cell_type": "code",
   "execution_count": 15,
   "id": "26120cd9",
   "metadata": {
    "scrolled": false
   },
   "outputs": [],
   "source": [
    "# # NOTE: days is ceiling\n",
    "\n",
    "# spark.sql(\"\"\"\n",
    "# WITH filter_t AS (\n",
    "# SELECT ID, NAME, STATE, EXPIRES_AT, UPDATED_AT, CREATED_AT\n",
    "# FROM rules_history \n",
    "# WHERE 1=1\n",
    "# AND ACCOUNT = \"crab_tape_recall\"\n",
    "# --- we look at the rule created this year (2023)\n",
    "# AND CREATED_AT >= unix_timestamp(\"2023-01-01 00:00:00\", \"yyyy-MM-dd HH:mm:ss\")*1000 \n",
    "# ),\n",
    "# rn_t AS (\n",
    "# SELECT ID, NAME, STATE, EXPIRES_AT, UPDATED_AT, CREATED_AT,\n",
    "# row_number() over(partition by ID order by UPDATED_AT desc) as rn --- to get only latest state for each id\n",
    "# FROM filter_t\n",
    "# ),\n",
    "# calc_days_t AS (\n",
    "# SELECT ID, NAME, STATE, \n",
    "# from_unixtime(EXPIRES_AT/1000, 'yyyy-MM-dd HH:mm:ss') AS EXPIRES_AT, \n",
    "# from_unixtime(UPDATED_AT/1000, 'yyyy-MM-dd HH:mm:ss') AS UPDATED_AT, \n",
    "# from_unixtime(CREATED_AT/1000, 'yyyy-MM-dd HH:mm:ss') AS CREATED_AT,\n",
    "# --- if state is O we calculate from update_at when state change (assumed that there is only single row for O state)\n",
    "# --- but if state is not O, we calculate from expired time, it usually 14 days but it is possible that rules somehow got extend\n",
    "# --- other wise days = 0 for filter the rules that not expire \n",
    "#    CASE \n",
    "#       WHEN STATE = 'O' THEN ceil((UPDATED_AT-CREATED_AT)/86400000)  \n",
    "#       WHEN STATE != 'O' AND EXPIRES_AT < unix_timestamp(\"2023-05-22 00:00:00\", \"yyyy-MM-dd HH:mm:ss\")*1000 THEN ceil((EXPIRES_AT-CREATED_AT)/86400000)\n",
    "#       ELSE 0\n",
    "#    END AS DAYS\n",
    "# FROM rn_t\n",
    "# WHERE rn = 1\n",
    "# )\n",
    "# SELECT * \n",
    "# FROM calc_days_t\n",
    "# ---AND STATE == 'O'\n",
    "# \"\"\"\n",
    "# ).show(50,truncate=False)"
   ]
  },
  {
   "cell_type": "code",
   "execution_count": 19,
   "id": "fadde59c",
   "metadata": {},
   "outputs": [],
   "source": [
    "## query use to produce data to elasticsearch\n",
    "\n",
    "query = f\"\"\"\\\n",
    "WITH filter_t AS (\n",
    "SELECT ID, NAME, STATE, EXPIRES_AT, UPDATED_AT, CREATED_AT\n",
    "FROM rules_history \n",
    "WHERE 1=1\n",
    "AND ACCOUNT = \"crab_tape_recall\"\n",
    "AND CREATED_AT >= unix_timestamp(\"{TOYEAR}-01-01 00:00:00\", \"yyyy-MM-dd HH:mm:ss\")*1000\n",
    "),\n",
    "rn_t AS (\n",
    "SELECT ID, NAME, STATE, EXPIRES_AT, UPDATED_AT, CREATED_AT,\n",
    "row_number() over(partition by ID order by UPDATED_AT desc) as rn\n",
    "FROM filter_t\n",
    "),\n",
    "calc_days_t AS (\n",
    "SELECT ID, NAME, STATE, EXPIRES_AT, UPDATED_AT, CREATED_AT,\n",
    "   CASE \n",
    "      WHEN STATE = 'O' THEN ceil((UPDATED_AT-CREATED_AT)/86400000)  \n",
    "      WHEN STATE != 'O' AND EXPIRES_AT < unix_timestamp(\"{wa_date} 00:00:00\", \"yyyy-MM-dd HH:mm:ss\")*1000 THEN ceil((EXPIRES_AT-CREATED_AT)/86400000)\n",
    "      ELSE 0\n",
    "   END AS DAYS\n",
    "FROM rn_t\n",
    "WHERE rn = 1\n",
    ")\n",
    "SELECT * \n",
    "FROM calc_days_t\n",
    "WHERE 1=1\n",
    "AND EXPIRES_AT >= unix_timestamp(\"{start_date} 00:00:00\", \"yyyy-MM-dd HH:mm:ss\")*1000 \n",
    "AND EXPIRES_AT < unix_timestamp(\"{end_date} 00:00:00\", \"yyyy-MM-dd HH:mm:ss\")*1000 \n",
    "\"\"\"\n",
    "\n",
    "tmpdf = spark.sql(query)\n",
    "# str(datetime.now()-timedelta(days=1))[:10]"
   ]
  },
  {
   "cell_type": "code",
   "execution_count": 20,
   "id": "b44548ef",
   "metadata": {},
   "outputs": [
    {
     "name": "stdout",
     "output_type": "stream",
     "text": [
      "+--------------------+--------------------+-----+-------------+-------------+-------------+----+\n",
      "|                  ID|                NAME|STATE|   EXPIRES_AT|   UPDATED_AT|   CREATED_AT|DAYS|\n",
      "+--------------------+--------------------+-----+-------------+-------------+-------------+----+\n",
      "|16e7eeb0a6c447839...|/DYJetsToLL_LHEFi...|    O|1689496342000|1689130290000|1686566168000|  30|\n",
      "|27aea75d1d364b219...|/WJetsToLNu_HT-20...|    O|1689568449000|1689086563000|1686931142000|  25|\n",
      "|3f2d7fcff69d49079...|/ParkingBPH1/Run2...|    R|1689522386000|1687621610000|1687621586000|  22|\n",
      "|67d9f565492b4dec9...|/DYJetsToLL_M-10t...|    R|1689519133000|1687618376000|1687618333000|  22|\n",
      "|c2cbad3267e84ba18...|/TapeRecall/23061...|    O|1689554004000|1689117261000|1686940766000|  26|\n",
      "|d23ee08f6aac4d5db...|/QCD_HT300to500_T...|    O|1689525153000|1689048723000|1686900417000|  25|\n",
      "|ddfdfed2239940298...|/W2JetsToLNu_Tune...|    R|1689517301000|1687616515000|1687616501000|  22|\n",
      "|dee8dbd0a82b48b59...|/TapeRecall/23060...|    O|1689525153000|1689127918000|1685747740000|  40|\n",
      "+--------------------+--------------------+-----+-------------+-------------+-------------+----+\n",
      "\n"
     ]
    }
   ],
   "source": [
    "tmpdf.show(50)"
   ]
  },
  {
   "cell_type": "code",
   "execution_count": 1,
   "id": "91db6a20",
   "metadata": {},
   "outputs": [],
   "source": [
    "tmpdf.printSchema()"
   ]
  },
  {
   "cell_type": "code",
   "execution_count": 47,
   "id": "e734d507",
   "metadata": {},
   "outputs": [],
   "source": [
    "docs = tmpdf.toPandas().to_dict('records')"
   ]
  },
  {
   "cell_type": "code",
   "execution_count": 48,
   "id": "ac8524e0",
   "metadata": {},
   "outputs": [
    {
     "data": {
      "text/plain": [
       "8260"
      ]
     },
     "execution_count": 48,
     "metadata": {},
     "output_type": "execute_result"
    }
   ],
   "source": [
    "len(docs)"
   ]
  },
  {
   "cell_type": "code",
   "execution_count": 49,
   "id": "fa51e74c",
   "metadata": {},
   "outputs": [
    {
     "data": {
      "text/plain": [
       "[{'ID': '00049b4efb3e4dd091dbfed2012069df',\n",
       "  'NAME': '/TapeRecall/221110_230609.dshmygol_crab_Bfinder_2018_MC_Bc_in_JpsiPI_v0_1/USER',\n",
       "  'STATE': 'O',\n",
       "  'EXPIRES_AT': 1669331191000,\n",
       "  'UPDATED_AT': 1668133187000,\n",
       "  'CREATED_AT': 1668121591000,\n",
       "  'DAYS': 1},\n",
       " {'ID': '0007a18199834a2ca720f088d96a3c9c',\n",
       "  'NAME': '/TapeRecall/220427_065307.youying_crab_DiphoVtxUL2016_DoubleMuon_Run2016B-21Feb2020_ver2_UL2016_HIPM-v1/USER',\n",
       "  'STATE': 'O',\n",
       "  'EXPIRES_AT': 1652252233000,\n",
       "  'UPDATED_AT': 1651048717000,\n",
       "  'CREATED_AT': 1651042633000,\n",
       "  'DAYS': 1},\n",
       " {'ID': '00d4ba364b89477e888e8797a33092d2',\n",
       "  'NAME': '/TapeRecall/210810_035101.jingqing_crab_BPHSkimOfficialChib06900-2016-v5/USER',\n",
       "  'STATE': 'O',\n",
       "  'EXPIRES_AT': 1629777107000,\n",
       "  'UPDATED_AT': 1628847357000,\n",
       "  'CREATED_AT': 1628567507000,\n",
       "  'DAYS': 4},\n",
       " {'ID': '00fb74e1bafc40aba0736216b798a80c',\n",
       "  'NAME': '/TapeRecall/230220_091052.shiyi_crab_RUN3_2022Dv2mass3_SKIM_E_newV2/USER',\n",
       "  'STATE': 'R',\n",
       "  'EXPIRES_AT': 1678093905000,\n",
       "  'UPDATED_AT': 1678093224000,\n",
       "  'CREATED_AT': 1676884305000,\n",
       "  'DAYS': 14},\n",
       " {'ID': '0116d88feb0842f29f78c78f2e7a4ce4',\n",
       "  'NAME': '/TapeRecall/230113_215556.wjang_crab_NanoAODv9_v1_ST_t-channel_antitop_4f_InclusiveDecays_TuneCP5_13TeV-powheg-madspin-pythia8_postVFP/USER',\n",
       "  'STATE': 'O',\n",
       "  'EXPIRES_AT': 1674856682000,\n",
       "  'UPDATED_AT': 1673966996000,\n",
       "  'CREATED_AT': 1673647082000,\n",
       "  'DAYS': 4}]"
      ]
     },
     "execution_count": 49,
     "metadata": {},
     "output_type": "execute_result"
    }
   ],
   "source": [
    "docs[:5]"
   ]
  },
  {
   "cell_type": "code",
   "execution_count": null,
   "id": "c052b072",
   "metadata": {},
   "outputs": [],
   "source": []
  },
  {
   "cell_type": "code",
   "execution_count": 52,
   "id": "86f3a742",
   "metadata": {},
   "outputs": [],
   "source": [
    "import osearch"
   ]
  },
  {
   "cell_type": "code",
   "execution_count": 53,
   "id": "6d29e62d",
   "metadata": {},
   "outputs": [],
   "source": [
    "def get_index_schema():\n",
    "    return {\n",
    "        \"settings\": {\"index\": {\"number_of_shards\": \"1\", \"number_of_replicas\": \"1\"}},\n",
    "        \"mappings\": {\n",
    "            \"properties\": {\n",
    "                \"timestamp\": {\"format\": \"epoch_second\", \"type\": \"date\"},\n",
    "                \"ID\": {\"ignore_above\": 1024, \"type\": \"keyword\"},\n",
    "                \"NAME\": {\"ignore_above\": 2048, \"type\": \"keyword\"},\n",
    "                \"STATE\": {\"ignore_above\": 1024, \"type\": \"keyword\"},\n",
    "                \"EXPIRES_AT\": {\"format\": \"epoch_millis\", \"type\": \"date\"},\n",
    "                \"UPDATED_AT\": {\"format\": \"epoch_millis\", \"type\": \"date\"},\n",
    "                \"CREATED_AT\": {\"format\": \"epoch_millis\", \"type\": \"date\"},\n",
    "                \"DAYS\": {\"type\": \"long\"},\n",
    "            }\n",
    "        }\n",
    "    }"
   ]
  },
  {
   "cell_type": "code",
   "execution_count": 54,
   "id": "b479eeb7",
   "metadata": {},
   "outputs": [
    {
     "name": "stderr",
     "output_type": "stream",
     "text": [
      "/eos/user/e/eatthaph/.local/lib/python3.9/site-packages/opensearchpy/connection/http_urllib3.py:199: UserWarning: Connecting to https://es-cms1.cern.ch:443 using SSL with verify_certs=False is insecure.\n",
      "  warnings.warn(\n",
      "/cvmfs/sft.cern.ch/lcg/views/LCG_103swan/x86_64-centos7-gcc11-opt/lib/python3.9/site-packages/urllib3/connectionpool.py:1013: InsecureRequestWarning: Unverified HTTPS request is being made to host 'es-cms1.cern.ch'. Adding certificate verification is strongly advised. See: https://urllib3.readthedocs.io/en/1.26.x/advanced-usage.html#ssl-warnings\n",
      "  warnings.warn(\n",
      "/cvmfs/sft.cern.ch/lcg/views/LCG_103swan/x86_64-centos7-gcc11-opt/lib/python3.9/site-packages/urllib3/connectionpool.py:1013: InsecureRequestWarning: Unverified HTTPS request is being made to host 'es-cms1.cern.ch'. Adding certificate verification is strongly advised. See: https://urllib3.readthedocs.io/en/1.26.x/advanced-usage.html#ssl-warnings\n",
      "  warnings.warn(\n"
     ]
    },
    {
     "data": {
      "text/plain": [
       "0"
      ]
     },
     "execution_count": 54,
     "metadata": {},
     "output_type": "execute_result"
    }
   ],
   "source": [
    "_index_template = 'crab-tape-recall-daily-ekong'\n",
    "client = osearch.get_es_client(\"es-cms1.cern.ch/es\", 'secret_opensearch.txt', get_index_schema())\n",
    "# index_mod=\"\": 'test-foo', index_mod=\"Y\": 'test-foo-YYYY', index_mod=\"M\": 'test-foo-YYYY-MM', index_mod=\"D\": 'test-foo-YYYY-MM-DD',\n",
    "idx = client.get_or_create_index(timestamp=time.time(), index_template=_index_template, index_mod=\"M\")\n",
    "client.send(idx, docs, metadata=None, batch_size=10000, drop_nulls=False)"
   ]
  },
  {
   "cell_type": "code",
   "execution_count": null,
   "id": "0af51d3a",
   "metadata": {},
   "outputs": [],
   "source": []
  },
  {
   "cell_type": "code",
   "execution_count": null,
   "id": "12ece939",
   "metadata": {},
   "outputs": [],
   "source": []
  },
  {
   "cell_type": "code",
   "execution_count": null,
   "id": "f4567c46",
   "metadata": {},
   "outputs": [],
   "source": []
  },
  {
   "cell_type": "code",
   "execution_count": null,
   "id": "546e9d4f",
   "metadata": {},
   "outputs": [],
   "source": []
  },
  {
   "cell_type": "code",
   "execution_count": null,
   "id": "496e681c",
   "metadata": {},
   "outputs": [],
   "source": []
  }
 ],
 "metadata": {
  "@webio": {
   "lastCommId": null,
   "lastKernelId": null
  },
  "kernelspec": {
   "display_name": "Python 3",
   "language": "python",
   "name": "python3"
  },
  "language_info": {
   "codemirror_mode": {
    "name": "ipython",
    "version": 3
   },
   "file_extension": ".py",
   "mimetype": "text/x-python",
   "name": "python",
   "nbconvert_exporter": "python",
   "pygments_lexer": "ipython3",
   "version": "3.9.12"
  },
  "sparkconnect": {
   "bundled_options": [],
   "list_of_options": [
    {
     "name": "spark.jars.packages",
     "value": "org.apache.spark:spark-avro_2.12:3.3.1"
    }
   ]
  }
 },
 "nbformat": 4,
 "nbformat_minor": 5
}
