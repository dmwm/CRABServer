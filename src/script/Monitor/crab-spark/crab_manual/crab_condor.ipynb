{
 "cells": [
  {
   "cell_type": "code",
   "execution_count": 1,
   "id": "cf212bba",
   "metadata": {},
   "outputs": [
    {
     "data": {
      "text/html": [
       "\n",
       "            <div>\n",
       "                <p><b>SparkSession - in-memory</b></p>\n",
       "                \n",
       "        <div>\n",
       "            <p><b>SparkContext</b></p>\n",
       "\n",
       "            <p><a href=\"http://swan-prod-2xlarge-h2ohj7sq3fe3-node-17:32740\">Spark UI</a></p>\n",
       "\n",
       "            <dl>\n",
       "              <dt>Version</dt>\n",
       "                <dd><code>v3.3.2</code></dd>\n",
       "              <dt>Master</dt>\n",
       "                <dd><code>yarn</code></dd>\n",
       "              <dt>AppName</dt>\n",
       "                <dd><code>pyspark_shell_swan</code></dd>\n",
       "            </dl>\n",
       "        </div>\n",
       "        \n",
       "            </div>\n",
       "        "
      ],
      "text/plain": [
       "<pyspark.sql.session.SparkSession at 0x7f8b9eb7f550>"
      ]
     },
     "execution_count": 1,
     "metadata": {},
     "output_type": "execute_result"
    }
   ],
   "source": [
    "spark"
   ]
  },
  {
   "cell_type": "code",
   "execution_count": 2,
   "id": "77d4d561",
   "metadata": {},
   "outputs": [],
   "source": [
    "import os\n",
    "import sys\n",
    "\n",
    "os.environ['PYSPARK_PYTHON'] = sys.executable\n",
    "os.environ['PYSPARK_DRIVER_PYTHON'] = sys.executable\n",
    "\n",
    "import time\n",
    "# from utils import (\n",
    "#     _to_dict,\n",
    "#     _donut,\n",
    "#     _pie,\n",
    "#     _line_graph,\n",
    "#     _other_fields,\n",
    "#     _exitcode_info,\n",
    "#     _better_label\n",
    "# )\n",
    "from datetime import datetime, date, timedelta\n",
    "from pyspark.sql.functions import (\n",
    "    col,\n",
    "    lit,\n",
    "    when,\n",
    "    sum as _sum,\n",
    "    count as _count,\n",
    "    first,\n",
    "    date_format,\n",
    "    from_unixtime\n",
    ")\n",
    "import numpy as np\n",
    "import pandas as pd\n",
    "from pyspark.sql.types import (\n",
    "    StructType,\n",
    "    LongType,\n",
    "    StringType,\n",
    "    StructField,\n",
    "    DoubleType,\n",
    "    IntegerType,\n",
    ")\n",
    "# spark.conf.set(\"spark.sql.execution.arrow.pyspark.enabled\", \"true\")\n"
   ]
  },
  {
   "cell_type": "markdown",
   "id": "6b14b465",
   "metadata": {},
   "source": [
    "### Prepare condor file name/configuration"
   ]
  },
  {
   "cell_type": "code",
   "execution_count": 3,
   "id": "65a21e3a",
   "metadata": {},
   "outputs": [],
   "source": [
    "def _get_schema():\n",
    "    return StructType(\n",
    "        [\n",
    "            StructField(\n",
    "                \"data\",\n",
    "                StructType(\n",
    "                    [\n",
    "                        StructField(\"RecordTime\", LongType(), nullable=False),\n",
    "                        StructField(\"CMSPrimaryDataTier\", StringType(), nullable=True),\n",
    "                        StructField(\"Status\", StringType(), nullable=True),\n",
    "                        StructField(\"WallClockHr\", DoubleType(), nullable=True),\n",
    "                        StructField(\"CoreHr\", DoubleType(), nullable=True),\n",
    "                        StructField(\"CpuTimeHr\", DoubleType(), nullable=True),\n",
    "                        StructField(\"Type\", StringType(), nullable=True),\n",
    "                        StructField(\"CRAB_DataBlock\", StringType(), nullable=True),\n",
    "                        StructField(\"GlobalJobId\", StringType(), nullable=False),\n",
    "                        StructField(\"ExitCode\", LongType(), nullable=True),\n",
    "                        StructField(\"CRAB_Workflow\", StringType(), nullable=True),\n",
    "                        StructField(\"CommittedCoreHr\", StringType(), nullable=True),\n",
    "                        StructField(\"CommittedWallClockHr\", StringType(), nullable=True),\n",
    "                    ]\n",
    "                ),\n",
    "            ),\n",
    "        ]\n",
    "    )"
   ]
  },
  {
   "cell_type": "code",
   "execution_count": 4,
   "id": "5344e275",
   "metadata": {},
   "outputs": [],
   "source": [
    "_DEFAULT_HDFS_FOLDER = \"/project/monitoring/archive/condor/raw/metric\""
   ]
  },
  {
   "cell_type": "code",
   "execution_count": 5,
   "id": "c20d8d62",
   "metadata": {},
   "outputs": [],
   "source": [
    "# # Check available files \n",
    "# !hdfs dfs -ls /project/monitoring/archive/condor/raw/metric/2023/07/08"
   ]
  },
  {
   "cell_type": "code",
   "execution_count": 6,
   "id": "8d821f8f",
   "metadata": {},
   "outputs": [],
   "source": [
    "def get_candidate_files(start_date, end_date, spark, base=_DEFAULT_HDFS_FOLDER):\n",
    "    st_date = start_date - timedelta(days=0)\n",
    "    ed_date = end_date + timedelta(days=0)\n",
    "    days = (ed_date - st_date).days\n",
    "    pre_candidate_files = [\n",
    "        \"{base}/{day}{{,.tmp}}\".format(\n",
    "            base=base, day=(st_date + timedelta(days=i)).strftime(\"%Y/%m/%d\")\n",
    "        )\n",
    "        for i in range(0, days)\n",
    "    ]\n",
    "    sc = spark.sparkContext\n",
    "    \n",
    "    candidate_files = [\n",
    "        f\"{base}/{(st_date + timedelta(days=i)).strftime('%Y/%m/%d')}\"\n",
    "        for i in range(0, days)\n",
    "    ]\n",
    "    FileSystem = sc._gateway.jvm.org.apache.hadoop.fs.FileSystem\n",
    "    URI = sc._gateway.jvm.java.net.URI\n",
    "    Path = sc._gateway.jvm.org.apache.hadoop.fs.Path\n",
    "    fs = FileSystem.get(URI(\"hdfs:///\"), sc._jsc.hadoopConfiguration())\n",
    "    # FIXME\n",
    "    candidate_files = [url for url in candidate_files if fs.globStatus(Path(url))]\n",
    "    print(\"No. of Consisted files:\", len(candidate_files))\n",
    "    return candidate_files\n",
    "\n",
    "#     all_candidate_files = []\n",
    "#     candidate_files = [\n",
    "#         f\"{base}/{(st_date + timedelta(days=i)).strftime('%Y/%m/%d')}\"\n",
    "#         for i in range(0, days)\n",
    "#     ]\n",
    "    \n",
    "#     URI           = sc._gateway.jvm.java.net.URI\n",
    "#     Path          = sc._gateway.jvm.org.apache.hadoop.fs.Path\n",
    "#     FileSystem    = sc._gateway.jvm.org.apache.hadoop.fs.FileSystem\n",
    "#     Configuration = sc._gateway.jvm.org.apache.hadoop.conf.Configuration\n",
    "#     fs = FileSystem.get(URI(\"hdfs:///\"), Configuration())\n",
    "\n",
    "#     for fileNames in candidate_files:\n",
    "#         status = fs.listStatus(Path(fileNames))\n",
    "#         candidate_files_day_i = [\n",
    "#             str(fileStatus.getPath()).replace('hdfs://analytix', '')\n",
    "#             for fileStatus in status\n",
    "#         ]\n",
    "#         all_candidate_files.extend(candidate_files_day_i)\n",
    "#     print(\"Files Directory:\", candidate_files, \"\\nNo. of Consisted files:\", len(all_candidate_files))\n",
    "#     return all_candidate_files\n",
    "\n",
    "def group_files(files, n=16):\n",
    "    # Yield successive n-sized\n",
    "    # chunks from files\n",
    "    all_group = []\n",
    "    for i in range(0, len(files), n):\n",
    "        all_group.append(files[i:i+n])\n",
    "    print(\"There are\", len(all_group), \"chunks of files\")\n",
    "    return all_group"
   ]
  },
  {
   "cell_type": "markdown",
   "id": "9a57477b",
   "metadata": {},
   "source": [
    "## load dataset"
   ]
  },
  {
   "cell_type": "code",
   "execution_count": 7,
   "id": "28bcc686",
   "metadata": {},
   "outputs": [],
   "source": [
    "schema = _get_schema()\n",
    "start_date = datetime(2023, 8, 10)\n",
    "end_date = datetime(2023, 8, 11)"
   ]
  },
  {
   "cell_type": "code",
   "execution_count": 8,
   "id": "bec66775",
   "metadata": {
    "scrolled": true
   },
   "outputs": [
    {
     "name": "stdout",
     "output_type": "stream",
     "text": [
      "No. of Consisted files: 1\n"
     ]
    },
    {
     "data": {
      "text/plain": [
       "['/project/monitoring/archive/condor/raw/metric/2023/08/10']"
      ]
     },
     "execution_count": 8,
     "metadata": {},
     "output_type": "execute_result"
    }
   ],
   "source": [
    "candidate_files = get_candidate_files(start_date, end_date, spark, base=_DEFAULT_HDFS_FOLDER)\n",
    "candidate_files"
   ]
  },
  {
   "cell_type": "markdown",
   "id": "894bdcf0",
   "metadata": {},
   "source": [
    "### Prepare CRAB data file name"
   ]
  },
  {
   "cell_type": "code",
   "execution_count": 9,
   "id": "b4120002",
   "metadata": {},
   "outputs": [],
   "source": [
    "TODAY = str(end_date)[:10]\n",
    "wa_date = TODAY\n",
    "HDFS_CRAB_part = f'/project/awg/cms/crab/tasks/{wa_date}/'"
   ]
  },
  {
   "cell_type": "markdown",
   "id": "de4d8e96",
   "metadata": {},
   "source": [
    "### Get raw data from condor raw"
   ]
  },
  {
   "cell_type": "code",
   "execution_count": 10,
   "id": "0aa94c64",
   "metadata": {},
   "outputs": [],
   "source": [
    "spark.conf.set(\"spark.sql.session.timeZone\", \"UTC\")\n",
    "\n",
    "crab_df = spark.read.format('avro').load(HDFS_CRAB_part)\n",
    "crab_df = crab_df.select('TM_TASKNAME', 'TM_IGNORE_LOCALITY')"
   ]
  },
  {
   "cell_type": "code",
   "execution_count": 25,
   "id": "b35668ef",
   "metadata": {},
   "outputs": [
    {
     "name": "stdout",
     "output_type": "stream",
     "text": [
      "23/08/16 13:48:02 WARN CacheManager: Asked to cache already cached data.\n"
     ]
    }
   ],
   "source": [
    "condor_df = (\n",
    "        spark.read.option(\"basePath\", _DEFAULT_HDFS_FOLDER)\n",
    "        .json(\n",
    "            candidate_files,\n",
    "            schema=schema,\n",
    "        ).select(\"data.*\")\n",
    "        .filter(\n",
    "            f\"\"\"Status IN ('Completed')\n",
    "            AND Type IN ('analysis')\n",
    "            AND RecordTime >= {start_date.timestamp() * 1000}\n",
    "            AND RecordTime < {end_date.timestamp() * 1000}\n",
    "            \"\"\"\n",
    "        )\n",
    "        .drop_duplicates([\"GlobalJobId\"]).cache()\n",
    "    ) \n",
    "condor_df.write.mode('overwrite').parquet(\"/cms/users/eatthaph/condor_vir_data\" ,compression='zstd')\n",
    "condor_df = spark.read.format('parquet').load('/cms/users/eatthaph/condor_vir_data')\n",
    "# condor_df.count()"
   ]
  },
  {
   "cell_type": "code",
   "execution_count": 27,
   "id": "7656d1f3",
   "metadata": {},
   "outputs": [],
   "source": [
    "result_df = condor_df.join(crab_df, crab_df[\"TM_TASKNAME\"] == condor_df[\"CRAB_Workflow\"])\\\n",
    "    .select('RecordTime', 'CMSPrimaryDataTier', 'WallClockHr', 'CoreHr', 'CpuTimeHr', 'ExitCode'\n",
    "            , \"CRAB_DataBlock\", \"TM_IGNORE_LOCALITY\", \"GlobalJobId\", \"CommittedCoreHr\", \"CommittedWallClockHr\")\n",
    "docs = result_df.toPandas()"
   ]
  },
  {
   "cell_type": "code",
   "execution_count": null,
   "id": "2b04b914",
   "metadata": {},
   "outputs": [],
   "source": [
    "len(docs)"
   ]
  },
  {
   "cell_type": "code",
   "execution_count": 19,
   "id": "fa3f9917",
   "metadata": {},
   "outputs": [],
   "source": [
    "# def spark_exec(candidate_files):\n",
    "#     condor_df = (\n",
    "#             spark.read.option(\"basePath\", _DEFAULT_HDFS_FOLDER)\n",
    "#             .json(\n",
    "#                 candidate_files,\n",
    "#                 schema=schema,\n",
    "#             ).select(\"data.*\")\n",
    "#             .filter(\n",
    "#                 f\"\"\"Status IN ('Completed')\n",
    "#                 AND Type IN ('analysis')\n",
    "#                 AND RecordTime >= {start_date.timestamp() * 1000}\n",
    "#                 AND RecordTime < {end_date.timestamp() * 1000}\n",
    "#                 \"\"\"\n",
    "#             )\n",
    "#             .drop_duplicates([\"GlobalJobId\"]).cache()\n",
    "#         ) \n",
    "#     condor_df.write.mode('overwrite').parquet(\"/cms/users/eatthaph/condor_vir_data\" ,compression='zstd')\n",
    "#     condor_df = spark.read.format('parquet').load('/cms/users/eatthaph/condor_vir_data')\n",
    "#     result_df = condor_df.join(crab_df, crab_df[\"TM_TASKNAME\"] == condor_df[\"CRAB_Workflow\"])\\\n",
    "#         .select('RecordTime', 'CMSPrimaryDataTier', 'WallClockHr', 'CoreHr', 'CpuTimeHr', 'ExitCode'\n",
    "#                 , \"CRAB_DataBlock\", \"TM_IGNORE_LOCALITY\", \"GlobalJobId\", \"CommittedCoreHr\", \"CommittedWallClockHr\")\n",
    "#     sub_docs = result_df.toPandas()\n",
    "#     return sub_docs\n",
    "\n",
    "# def loop_excute(candidate_files, initial_n=len(candidate_files)):\n",
    "#     r = 0\n",
    "#     n = initial_n\n",
    "#     df_list = []\n",
    "#     file_chunk = group_files(candidate_files, n)\n",
    "#     while len(file_chunk)!=0 and r<10:\n",
    "#         print(\"=================================\\n round :\", r+1, \"\\n=================================\")\n",
    "#         df_err_list = []\n",
    "#         for i, chunk in enumerate(file_chunk):\n",
    "#             print(\"=================================\\n\", i+1, \"out of\", len(file_chunk), \"\\n=================================\")\n",
    "#             try:\n",
    "#                 df_list.append(spark_exec(chunk))\n",
    "#             except Exception as ex:\n",
    "#                 print(\"=====\", ex)\n",
    "#                 df_err_list.extend(chunk)\n",
    "# #         if n != 1:\n",
    "# #             n = n//2\n",
    "#         file_chunk = group_files(df_err_list, n)\n",
    "#         r += 1\n",
    "#         print(\"\")\n",
    "#     print(\"Fail excuted files :\", df_err_list)\n",
    "#     return df_list"
   ]
  },
  {
   "cell_type": "code",
   "execution_count": 1,
   "id": "af6d5e17",
   "metadata": {},
   "outputs": [],
   "source": [
    "# useful_df = loop_excute(candidate_files)\n",
    "# df_list = spark_exec(candidate_files)"
   ]
  },
  {
   "cell_type": "code",
   "execution_count": 15,
   "id": "18908dab",
   "metadata": {},
   "outputs": [],
   "source": [
    "docs = docs.to_dict('records')"
   ]
  },
  {
   "cell_type": "code",
   "execution_count": 16,
   "id": "c912b217",
   "metadata": {},
   "outputs": [],
   "source": [
    "for i in range(len(docs)):\n",
    "    if docs[i]['CRAB_DataBlock'] == 'MCFakeBlock':\n",
    "        docs[i]['CRAB_Type'] = 'PrivateMC'\n",
    "    else:\n",
    "        docs[i]['CRAB_Type'] = 'Analysis'"
   ]
  },
  {
   "cell_type": "code",
   "execution_count": 17,
   "id": "0e3ae57b",
   "metadata": {},
   "outputs": [
    {
     "data": {
      "text/plain": [
       "[{'RecordTime': 1692101192000,\n",
       "  'CMSPrimaryDataTier': 'MINIAODSIM',\n",
       "  'WallClockHr': 0.12361111111111112,\n",
       "  'CoreHr': 0.12361111111111112,\n",
       "  'CpuTimeHr': 0.0022222222222222222,\n",
       "  'ExitCode': 8020,\n",
       "  'CRAB_DataBlock': '/WWTo4Q_4f_TuneCP5_13TeV-amcatnloFXFX-pythia8/RunIISummer20UL18MiniAODv2-106X_upgrade2018_realistic_v16_L1v1-v3/MINIAODSIM#eb5a0cbd-6c43-492c-ac21-4318775aee3b',\n",
       "  'TM_IGNORE_LOCALITY': 'F',\n",
       "  'GlobalJobId': 'crab3@vocms0155.cern.ch#98631116.0#1692100543',\n",
       "  'CommittedCoreHr': '0.12361111111111112',\n",
       "  'CommittedWallClockHr': '0.12361111111111112',\n",
       "  'CRAB_Type': 'Analysis'},\n",
       " {'RecordTime': 1692099933000,\n",
       "  'CMSPrimaryDataTier': 'MINIAODSIM',\n",
       "  'WallClockHr': 0.12166666666666667,\n",
       "  'CoreHr': 0.12166666666666667,\n",
       "  'CpuTimeHr': 0.004722222222222222,\n",
       "  'ExitCode': 8020,\n",
       "  'CRAB_DataBlock': '/WWTo4Q_4f_TuneCP5_13TeV-amcatnloFXFX-pythia8/RunIISummer20UL18MiniAODv2-106X_upgrade2018_realistic_v16_L1v1-v3/MINIAODSIM#eb5a0cbd-6c43-492c-ac21-4318775aee3b',\n",
       "  'TM_IGNORE_LOCALITY': 'F',\n",
       "  'GlobalJobId': 'crab3@vocms0155.cern.ch#98629759.0#1692099393',\n",
       "  'CommittedCoreHr': '0.1213888888888889',\n",
       "  'CommittedWallClockHr': '0.1213888888888889',\n",
       "  'CRAB_Type': 'Analysis'},\n",
       " {'RecordTime': 1692121300000,\n",
       "  'CMSPrimaryDataTier': 'MINIAODSIM',\n",
       "  'WallClockHr': 5.698333333333333,\n",
       "  'CoreHr': 5.698333333333333,\n",
       "  'CpuTimeHr': 5.501388888888889,\n",
       "  'ExitCode': 0,\n",
       "  'CRAB_DataBlock': '/QCD_HT50to100_TuneCP5_13TeV-madgraphMLM-pythia8/RunIISummer20UL17MiniAODv2-106X_mc2017_realistic_v9-v2/MINIAODSIM#4c355926-ea17-4285-bd2b-2c7692c48a87',\n",
       "  'TM_IGNORE_LOCALITY': 'F',\n",
       "  'GlobalJobId': 'crab3@vocms0107.cern.ch#96720630.0#1691795011',\n",
       "  'CommittedCoreHr': '5.698333333333333',\n",
       "  'CommittedWallClockHr': '5.698333333333333',\n",
       "  'CRAB_Type': 'Analysis'},\n",
       " {'RecordTime': 1692121556000,\n",
       "  'CMSPrimaryDataTier': 'MINIAODSIM',\n",
       "  'WallClockHr': 5.769722222222223,\n",
       "  'CoreHr': 5.769722222222223,\n",
       "  'CpuTimeHr': 5.543055555555555,\n",
       "  'ExitCode': 0,\n",
       "  'CRAB_DataBlock': '/QCD_HT50to100_TuneCP5_13TeV-madgraphMLM-pythia8/RunIISummer20UL17MiniAODv2-106X_mc2017_realistic_v9-v2/MINIAODSIM#4c355926-ea17-4285-bd2b-2c7692c48a87',\n",
       "  'TM_IGNORE_LOCALITY': 'F',\n",
       "  'GlobalJobId': 'crab3@vocms0107.cern.ch#96720628.0#1691795011',\n",
       "  'CommittedCoreHr': '5.769722222222223',\n",
       "  'CommittedWallClockHr': '5.769722222222223',\n",
       "  'CRAB_Type': 'Analysis'},\n",
       " {'RecordTime': 1692123756000,\n",
       "  'CMSPrimaryDataTier': 'MINIAODSIM',\n",
       "  'WallClockHr': 3.2091666666666665,\n",
       "  'CoreHr': 3.2091666666666665,\n",
       "  'CpuTimeHr': 3.1125,\n",
       "  'ExitCode': 0,\n",
       "  'CRAB_DataBlock': '/QCD_HT50to100_TuneCP5_13TeV-madgraphMLM-pythia8/RunIISummer20UL17MiniAODv2-106X_mc2017_realistic_v9-v2/MINIAODSIM#4c355926-ea17-4285-bd2b-2c7692c48a87',\n",
       "  'TM_IGNORE_LOCALITY': 'F',\n",
       "  'GlobalJobId': 'crab3@vocms0107.cern.ch#96720658.0#1691795012',\n",
       "  'CommittedCoreHr': '3.2091666666666665',\n",
       "  'CommittedWallClockHr': '3.2091666666666665',\n",
       "  'CRAB_Type': 'Analysis'}]"
      ]
     },
     "execution_count": 17,
     "metadata": {},
     "output_type": "execute_result"
    }
   ],
   "source": [
    "docs[:5]"
   ]
  },
  {
   "cell_type": "code",
   "execution_count": 18,
   "id": "bcdfb65c",
   "metadata": {},
   "outputs": [],
   "source": [
    "import osearch"
   ]
  },
  {
   "cell_type": "code",
   "execution_count": 19,
   "id": "4666acef",
   "metadata": {},
   "outputs": [],
   "source": [
    "def get_index_schema():\n",
    "    return {\n",
    "        \"settings\": {\"index\": {\"number_of_shards\": \"1\", \"number_of_replicas\": \"1\"}},\n",
    "        \"mappings\": {\n",
    "            \"properties\": {\n",
    "                \"RecordTime\": {\"format\": \"epoch_millis\", \"type\": \"date\"},\n",
    "                \"CMSPrimaryDataTier\": {\"ignore_above\": 2048, \"type\": \"keyword\"},\n",
    "                \"GlobalJobId\": {\"ignore_above\": 2048, \"type\": \"keyword\"},\n",
    "                \"WallClockHr\": {\"type\": \"long\"},\n",
    "                \"CoreHr\": {\"type\": \"long\"},\n",
    "                \"CpuTimeHr\": {\"type\": \"long\"},\n",
    "                \"ExitCode\": {\"ignore_above\": 2048, \"type\": \"keyword\"},\n",
    "                \"TM_IGNORE_LOCALITY\": {\"ignore_above\": 2048, \"type\": \"keyword\"},\n",
    "                \"CRAB_Type\": {\"ignore_above\": 2048, \"type\": \"keyword\"},\n",
    "                \"CRAB_DataBlock\": {\"ignore_above\": 2048, \"type\": \"keyword\"},\n",
    "                \"CommittedCoreHr\": {\"type\": \"long\"}, \n",
    "                \"CommittedWallClockHr\": {\"type\": \"long\"},\n",
    "            }\n",
    "        }\n",
    "    }"
   ]
  },
  {
   "cell_type": "code",
   "execution_count": 20,
   "id": "d6e4107b",
   "metadata": {},
   "outputs": [
    {
     "name": "stderr",
     "output_type": "stream",
     "text": [
      "/eos/user/e/eatthaph/.local/lib/python3.9/site-packages/opensearchpy/connection/http_urllib3.py:199: UserWarning: Connecting to https://es-cms1.cern.ch:443 using SSL with verify_certs=False is insecure.\n",
      "  warnings.warn(\n",
      "/cvmfs/sft.cern.ch/lcg/views/LCG_103swan/x86_64-centos7-gcc11-opt/lib/python3.9/site-packages/urllib3/connectionpool.py:1013: InsecureRequestWarning: Unverified HTTPS request is being made to host 'es-cms1.cern.ch'. Adding certificate verification is strongly advised. See: https://urllib3.readthedocs.io/en/1.26.x/advanced-usage.html#ssl-warnings\n",
      "  warnings.warn(\n",
      "/cvmfs/sft.cern.ch/lcg/views/LCG_103swan/x86_64-centos7-gcc11-opt/lib/python3.9/site-packages/urllib3/connectionpool.py:1013: InsecureRequestWarning: Unverified HTTPS request is being made to host 'es-cms1.cern.ch'. Adding certificate verification is strongly advised. See: https://urllib3.readthedocs.io/en/1.26.x/advanced-usage.html#ssl-warnings\n",
      "  warnings.warn(\n",
      "/cvmfs/sft.cern.ch/lcg/views/LCG_103swan/x86_64-centos7-gcc11-opt/lib/python3.9/site-packages/urllib3/connectionpool.py:1013: InsecureRequestWarning: Unverified HTTPS request is being made to host 'es-cms1.cern.ch'. Adding certificate verification is strongly advised. See: https://urllib3.readthedocs.io/en/1.26.x/advanced-usage.html#ssl-warnings\n",
      "  warnings.warn(\n",
      "/cvmfs/sft.cern.ch/lcg/views/LCG_103swan/x86_64-centos7-gcc11-opt/lib/python3.9/site-packages/urllib3/connectionpool.py:1013: InsecureRequestWarning: Unverified HTTPS request is being made to host 'es-cms1.cern.ch'. Adding certificate verification is strongly advised. See: https://urllib3.readthedocs.io/en/1.26.x/advanced-usage.html#ssl-warnings\n",
      "  warnings.warn(\n",
      "/cvmfs/sft.cern.ch/lcg/views/LCG_103swan/x86_64-centos7-gcc11-opt/lib/python3.9/site-packages/urllib3/connectionpool.py:1013: InsecureRequestWarning: Unverified HTTPS request is being made to host 'es-cms1.cern.ch'. Adding certificate verification is strongly advised. See: https://urllib3.readthedocs.io/en/1.26.x/advanced-usage.html#ssl-warnings\n",
      "  warnings.warn(\n",
      "/cvmfs/sft.cern.ch/lcg/views/LCG_103swan/x86_64-centos7-gcc11-opt/lib/python3.9/site-packages/urllib3/connectionpool.py:1013: InsecureRequestWarning: Unverified HTTPS request is being made to host 'es-cms1.cern.ch'. Adding certificate verification is strongly advised. See: https://urllib3.readthedocs.io/en/1.26.x/advanced-usage.html#ssl-warnings\n",
      "  warnings.warn(\n",
      "/cvmfs/sft.cern.ch/lcg/views/LCG_103swan/x86_64-centos7-gcc11-opt/lib/python3.9/site-packages/urllib3/connectionpool.py:1013: InsecureRequestWarning: Unverified HTTPS request is being made to host 'es-cms1.cern.ch'. Adding certificate verification is strongly advised. See: https://urllib3.readthedocs.io/en/1.26.x/advanced-usage.html#ssl-warnings\n",
      "  warnings.warn(\n",
      "/cvmfs/sft.cern.ch/lcg/views/LCG_103swan/x86_64-centos7-gcc11-opt/lib/python3.9/site-packages/urllib3/connectionpool.py:1013: InsecureRequestWarning: Unverified HTTPS request is being made to host 'es-cms1.cern.ch'. Adding certificate verification is strongly advised. See: https://urllib3.readthedocs.io/en/1.26.x/advanced-usage.html#ssl-warnings\n",
      "  warnings.warn(\n",
      "/cvmfs/sft.cern.ch/lcg/views/LCG_103swan/x86_64-centos7-gcc11-opt/lib/python3.9/site-packages/urllib3/connectionpool.py:1013: InsecureRequestWarning: Unverified HTTPS request is being made to host 'es-cms1.cern.ch'. Adding certificate verification is strongly advised. See: https://urllib3.readthedocs.io/en/1.26.x/advanced-usage.html#ssl-warnings\n",
      "  warnings.warn(\n",
      "/cvmfs/sft.cern.ch/lcg/views/LCG_103swan/x86_64-centos7-gcc11-opt/lib/python3.9/site-packages/urllib3/connectionpool.py:1013: InsecureRequestWarning: Unverified HTTPS request is being made to host 'es-cms1.cern.ch'. Adding certificate verification is strongly advised. See: https://urllib3.readthedocs.io/en/1.26.x/advanced-usage.html#ssl-warnings\n",
      "  warnings.warn(\n",
      "/cvmfs/sft.cern.ch/lcg/views/LCG_103swan/x86_64-centos7-gcc11-opt/lib/python3.9/site-packages/urllib3/connectionpool.py:1013: InsecureRequestWarning: Unverified HTTPS request is being made to host 'es-cms1.cern.ch'. Adding certificate verification is strongly advised. See: https://urllib3.readthedocs.io/en/1.26.x/advanced-usage.html#ssl-warnings\n",
      "  warnings.warn(\n",
      "/cvmfs/sft.cern.ch/lcg/views/LCG_103swan/x86_64-centos7-gcc11-opt/lib/python3.9/site-packages/urllib3/connectionpool.py:1013: InsecureRequestWarning: Unverified HTTPS request is being made to host 'es-cms1.cern.ch'. Adding certificate verification is strongly advised. See: https://urllib3.readthedocs.io/en/1.26.x/advanced-usage.html#ssl-warnings\n",
      "  warnings.warn(\n",
      "/cvmfs/sft.cern.ch/lcg/views/LCG_103swan/x86_64-centos7-gcc11-opt/lib/python3.9/site-packages/urllib3/connectionpool.py:1013: InsecureRequestWarning: Unverified HTTPS request is being made to host 'es-cms1.cern.ch'. Adding certificate verification is strongly advised. See: https://urllib3.readthedocs.io/en/1.26.x/advanced-usage.html#ssl-warnings\n",
      "  warnings.warn(\n",
      "/cvmfs/sft.cern.ch/lcg/views/LCG_103swan/x86_64-centos7-gcc11-opt/lib/python3.9/site-packages/urllib3/connectionpool.py:1013: InsecureRequestWarning: Unverified HTTPS request is being made to host 'es-cms1.cern.ch'. Adding certificate verification is strongly advised. See: https://urllib3.readthedocs.io/en/1.26.x/advanced-usage.html#ssl-warnings\n",
      "  warnings.warn(\n",
      "/cvmfs/sft.cern.ch/lcg/views/LCG_103swan/x86_64-centos7-gcc11-opt/lib/python3.9/site-packages/urllib3/connectionpool.py:1013: InsecureRequestWarning: Unverified HTTPS request is being made to host 'es-cms1.cern.ch'. Adding certificate verification is strongly advised. See: https://urllib3.readthedocs.io/en/1.26.x/advanced-usage.html#ssl-warnings\n",
      "  warnings.warn(\n",
      "/cvmfs/sft.cern.ch/lcg/views/LCG_103swan/x86_64-centos7-gcc11-opt/lib/python3.9/site-packages/urllib3/connectionpool.py:1013: InsecureRequestWarning: Unverified HTTPS request is being made to host 'es-cms1.cern.ch'. Adding certificate verification is strongly advised. See: https://urllib3.readthedocs.io/en/1.26.x/advanced-usage.html#ssl-warnings\n",
      "  warnings.warn(\n",
      "/cvmfs/sft.cern.ch/lcg/views/LCG_103swan/x86_64-centos7-gcc11-opt/lib/python3.9/site-packages/urllib3/connectionpool.py:1013: InsecureRequestWarning: Unverified HTTPS request is being made to host 'es-cms1.cern.ch'. Adding certificate verification is strongly advised. See: https://urllib3.readthedocs.io/en/1.26.x/advanced-usage.html#ssl-warnings\n",
      "  warnings.warn(\n",
      "/cvmfs/sft.cern.ch/lcg/views/LCG_103swan/x86_64-centos7-gcc11-opt/lib/python3.9/site-packages/urllib3/connectionpool.py:1013: InsecureRequestWarning: Unverified HTTPS request is being made to host 'es-cms1.cern.ch'. Adding certificate verification is strongly advised. See: https://urllib3.readthedocs.io/en/1.26.x/advanced-usage.html#ssl-warnings\n",
      "  warnings.warn(\n",
      "/cvmfs/sft.cern.ch/lcg/views/LCG_103swan/x86_64-centos7-gcc11-opt/lib/python3.9/site-packages/urllib3/connectionpool.py:1013: InsecureRequestWarning: Unverified HTTPS request is being made to host 'es-cms1.cern.ch'. Adding certificate verification is strongly advised. See: https://urllib3.readthedocs.io/en/1.26.x/advanced-usage.html#ssl-warnings\n",
      "  warnings.warn(\n",
      "/cvmfs/sft.cern.ch/lcg/views/LCG_103swan/x86_64-centos7-gcc11-opt/lib/python3.9/site-packages/urllib3/connectionpool.py:1013: InsecureRequestWarning: Unverified HTTPS request is being made to host 'es-cms1.cern.ch'. Adding certificate verification is strongly advised. See: https://urllib3.readthedocs.io/en/1.26.x/advanced-usage.html#ssl-warnings\n",
      "  warnings.warn(\n",
      "/cvmfs/sft.cern.ch/lcg/views/LCG_103swan/x86_64-centos7-gcc11-opt/lib/python3.9/site-packages/urllib3/connectionpool.py:1013: InsecureRequestWarning: Unverified HTTPS request is being made to host 'es-cms1.cern.ch'. Adding certificate verification is strongly advised. See: https://urllib3.readthedocs.io/en/1.26.x/advanced-usage.html#ssl-warnings\n",
      "  warnings.warn(\n",
      "/cvmfs/sft.cern.ch/lcg/views/LCG_103swan/x86_64-centos7-gcc11-opt/lib/python3.9/site-packages/urllib3/connectionpool.py:1013: InsecureRequestWarning: Unverified HTTPS request is being made to host 'es-cms1.cern.ch'. Adding certificate verification is strongly advised. See: https://urllib3.readthedocs.io/en/1.26.x/advanced-usage.html#ssl-warnings\n",
      "  warnings.warn(\n"
     ]
    },
    {
     "name": "stderr",
     "output_type": "stream",
     "text": [
      "/cvmfs/sft.cern.ch/lcg/views/LCG_103swan/x86_64-centos7-gcc11-opt/lib/python3.9/site-packages/urllib3/connectionpool.py:1013: InsecureRequestWarning: Unverified HTTPS request is being made to host 'es-cms1.cern.ch'. Adding certificate verification is strongly advised. See: https://urllib3.readthedocs.io/en/1.26.x/advanced-usage.html#ssl-warnings\n",
      "  warnings.warn(\n",
      "/cvmfs/sft.cern.ch/lcg/views/LCG_103swan/x86_64-centos7-gcc11-opt/lib/python3.9/site-packages/urllib3/connectionpool.py:1013: InsecureRequestWarning: Unverified HTTPS request is being made to host 'es-cms1.cern.ch'. Adding certificate verification is strongly advised. See: https://urllib3.readthedocs.io/en/1.26.x/advanced-usage.html#ssl-warnings\n",
      "  warnings.warn(\n",
      "/cvmfs/sft.cern.ch/lcg/views/LCG_103swan/x86_64-centos7-gcc11-opt/lib/python3.9/site-packages/urllib3/connectionpool.py:1013: InsecureRequestWarning: Unverified HTTPS request is being made to host 'es-cms1.cern.ch'. Adding certificate verification is strongly advised. See: https://urllib3.readthedocs.io/en/1.26.x/advanced-usage.html#ssl-warnings\n",
      "  warnings.warn(\n",
      "/cvmfs/sft.cern.ch/lcg/views/LCG_103swan/x86_64-centos7-gcc11-opt/lib/python3.9/site-packages/urllib3/connectionpool.py:1013: InsecureRequestWarning: Unverified HTTPS request is being made to host 'es-cms1.cern.ch'. Adding certificate verification is strongly advised. See: https://urllib3.readthedocs.io/en/1.26.x/advanced-usage.html#ssl-warnings\n",
      "  warnings.warn(\n",
      "/cvmfs/sft.cern.ch/lcg/views/LCG_103swan/x86_64-centos7-gcc11-opt/lib/python3.9/site-packages/urllib3/connectionpool.py:1013: InsecureRequestWarning: Unverified HTTPS request is being made to host 'es-cms1.cern.ch'. Adding certificate verification is strongly advised. See: https://urllib3.readthedocs.io/en/1.26.x/advanced-usage.html#ssl-warnings\n",
      "  warnings.warn(\n",
      "/cvmfs/sft.cern.ch/lcg/views/LCG_103swan/x86_64-centos7-gcc11-opt/lib/python3.9/site-packages/urllib3/connectionpool.py:1013: InsecureRequestWarning: Unverified HTTPS request is being made to host 'es-cms1.cern.ch'. Adding certificate verification is strongly advised. See: https://urllib3.readthedocs.io/en/1.26.x/advanced-usage.html#ssl-warnings\n",
      "  warnings.warn(\n",
      "/cvmfs/sft.cern.ch/lcg/views/LCG_103swan/x86_64-centos7-gcc11-opt/lib/python3.9/site-packages/urllib3/connectionpool.py:1013: InsecureRequestWarning: Unverified HTTPS request is being made to host 'es-cms1.cern.ch'. Adding certificate verification is strongly advised. See: https://urllib3.readthedocs.io/en/1.26.x/advanced-usage.html#ssl-warnings\n",
      "  warnings.warn(\n",
      "/cvmfs/sft.cern.ch/lcg/views/LCG_103swan/x86_64-centos7-gcc11-opt/lib/python3.9/site-packages/urllib3/connectionpool.py:1013: InsecureRequestWarning: Unverified HTTPS request is being made to host 'es-cms1.cern.ch'. Adding certificate verification is strongly advised. See: https://urllib3.readthedocs.io/en/1.26.x/advanced-usage.html#ssl-warnings\n",
      "  warnings.warn(\n",
      "/cvmfs/sft.cern.ch/lcg/views/LCG_103swan/x86_64-centos7-gcc11-opt/lib/python3.9/site-packages/urllib3/connectionpool.py:1013: InsecureRequestWarning: Unverified HTTPS request is being made to host 'es-cms1.cern.ch'. Adding certificate verification is strongly advised. See: https://urllib3.readthedocs.io/en/1.26.x/advanced-usage.html#ssl-warnings\n",
      "  warnings.warn(\n",
      "/cvmfs/sft.cern.ch/lcg/views/LCG_103swan/x86_64-centos7-gcc11-opt/lib/python3.9/site-packages/urllib3/connectionpool.py:1013: InsecureRequestWarning: Unverified HTTPS request is being made to host 'es-cms1.cern.ch'. Adding certificate verification is strongly advised. See: https://urllib3.readthedocs.io/en/1.26.x/advanced-usage.html#ssl-warnings\n",
      "  warnings.warn(\n",
      "/cvmfs/sft.cern.ch/lcg/views/LCG_103swan/x86_64-centos7-gcc11-opt/lib/python3.9/site-packages/urllib3/connectionpool.py:1013: InsecureRequestWarning: Unverified HTTPS request is being made to host 'es-cms1.cern.ch'. Adding certificate verification is strongly advised. See: https://urllib3.readthedocs.io/en/1.26.x/advanced-usage.html#ssl-warnings\n",
      "  warnings.warn(\n",
      "/cvmfs/sft.cern.ch/lcg/views/LCG_103swan/x86_64-centos7-gcc11-opt/lib/python3.9/site-packages/urllib3/connectionpool.py:1013: InsecureRequestWarning: Unverified HTTPS request is being made to host 'es-cms1.cern.ch'. Adding certificate verification is strongly advised. See: https://urllib3.readthedocs.io/en/1.26.x/advanced-usage.html#ssl-warnings\n",
      "  warnings.warn(\n",
      "/cvmfs/sft.cern.ch/lcg/views/LCG_103swan/x86_64-centos7-gcc11-opt/lib/python3.9/site-packages/urllib3/connectionpool.py:1013: InsecureRequestWarning: Unverified HTTPS request is being made to host 'es-cms1.cern.ch'. Adding certificate verification is strongly advised. See: https://urllib3.readthedocs.io/en/1.26.x/advanced-usage.html#ssl-warnings\n",
      "  warnings.warn(\n",
      "/cvmfs/sft.cern.ch/lcg/views/LCG_103swan/x86_64-centos7-gcc11-opt/lib/python3.9/site-packages/urllib3/connectionpool.py:1013: InsecureRequestWarning: Unverified HTTPS request is being made to host 'es-cms1.cern.ch'. Adding certificate verification is strongly advised. See: https://urllib3.readthedocs.io/en/1.26.x/advanced-usage.html#ssl-warnings\n",
      "  warnings.warn(\n",
      "/cvmfs/sft.cern.ch/lcg/views/LCG_103swan/x86_64-centos7-gcc11-opt/lib/python3.9/site-packages/urllib3/connectionpool.py:1013: InsecureRequestWarning: Unverified HTTPS request is being made to host 'es-cms1.cern.ch'. Adding certificate verification is strongly advised. See: https://urllib3.readthedocs.io/en/1.26.x/advanced-usage.html#ssl-warnings\n",
      "  warnings.warn(\n",
      "/cvmfs/sft.cern.ch/lcg/views/LCG_103swan/x86_64-centos7-gcc11-opt/lib/python3.9/site-packages/urllib3/connectionpool.py:1013: InsecureRequestWarning: Unverified HTTPS request is being made to host 'es-cms1.cern.ch'. Adding certificate verification is strongly advised. See: https://urllib3.readthedocs.io/en/1.26.x/advanced-usage.html#ssl-warnings\n",
      "  warnings.warn(\n",
      "/cvmfs/sft.cern.ch/lcg/views/LCG_103swan/x86_64-centos7-gcc11-opt/lib/python3.9/site-packages/urllib3/connectionpool.py:1013: InsecureRequestWarning: Unverified HTTPS request is being made to host 'es-cms1.cern.ch'. Adding certificate verification is strongly advised. See: https://urllib3.readthedocs.io/en/1.26.x/advanced-usage.html#ssl-warnings\n",
      "  warnings.warn(\n"
     ]
    }
   ],
   "source": [
    "_index_template = 'crab-condor-ekong'\n",
    "client = osearch.get_es_client(\"es-cms1.cern.ch/es\", 'secret_opensearch.txt', get_index_schema())\n",
    "# index_mod=\"\": 'test-foo', index_mod=\"Y\": 'test-foo-YYYY', index_mod=\"M\": 'test-foo-YYYY-MM', index_mod=\"D\": 'test-foo-YYYY-MM-DD',\n",
    "idx = client.get_or_create_index(timestamp=time.time(), index_template=_index_template, index_mod=\"M\")\n",
    "client.send(idx, docs, metadata=None, batch_size=10000, drop_nulls=False)"
   ]
  },
  {
   "cell_type": "code",
   "execution_count": null,
   "id": "d7274886",
   "metadata": {},
   "outputs": [],
   "source": []
  },
  {
   "cell_type": "code",
   "execution_count": null,
   "id": "1b4484a3",
   "metadata": {},
   "outputs": [],
   "source": []
  }
 ],
 "metadata": {
  "@webio": {
   "lastCommId": null,
   "lastKernelId": null
  },
  "kernelspec": {
   "display_name": "Python 3",
   "language": "python",
   "name": "python3"
  },
  "language_info": {
   "codemirror_mode": {
    "name": "ipython",
    "version": 3
   },
   "file_extension": ".py",
   "mimetype": "text/x-python",
   "name": "python",
   "nbconvert_exporter": "python",
   "pygments_lexer": "ipython3",
   "version": "3.9.12"
  },
  "sparkconnect": {
   "bundled_options": [],
   "list_of_options": [
    {
     "name": "spark.jars.packages",
     "value": "org.apache.spark:spark-avro_2.12:3.3.1"
    }
   ]
  },
  "vscode": {
   "interpreter": {
    "hash": "31f2aee4e71d21fbe5cf8b01ff0e069b9275f58929596ceb00d14d90e3e16cd6"
   }
  }
 },
 "nbformat": 4,
 "nbformat_minor": 5
}
