{
 "cells": [
  {
   "cell_type": "code",
   "execution_count": 122,
   "metadata": {},
   "outputs": [
    {
     "data": {
      "text/plain": [
       "'/afs/cern.ch/work/b/belforte/CRAB3/CRABServer/scripts/Utils'"
      ]
     },
     "execution_count": 122,
     "metadata": {},
     "output_type": "execute_result"
    }
   ],
   "source": [
    "from __future__ import division\n",
    "from __future__ import print_function\n",
    "import json\n",
    "import os\n",
    "import time\n",
    "import subprocess\n",
    "import argparse\n",
    "import logging\n",
    "import sys\n",
    "import urllib\n",
    "\n",
    "from RESTInteractions import HTTPRequests\n",
    "from httplib import HTTPException\n",
    "from ServerUtilities import encodeRequest\n",
    "\n",
    "os.getcwd()"
   ]
  },
  {
   "cell_type": "code",
   "execution_count": 38,
   "metadata": {},
   "outputs": [
    {
     "name": "stdout",
     "output_type": "stream",
     "text": [
      "Proxy: /tmp/x509up_u8516\n"
     ]
    }
   ],
   "source": [
    "\n",
    "logging.basicConfig(stream=sys.stdout, level=logging.INFO)\n",
    "logger = logging.getLogger('Logger')\n",
    "\n",
    "proxy = os.environ['X509_USER_PROXY']\n",
    "print(\"Proxy: %s\" % proxy)"
   ]
  },
  {
   "cell_type": "code",
   "execution_count": 39,
   "metadata": {},
   "outputs": [
    {
     "name": "stdout",
     "output_type": "stream",
     "text": [
      "{'retry': 0, 'content_type': 'application/x-www-form-urlencoded', 'cert': '/tmp/x509up_u8516', 'host': 'cmsweb-testbed.cern.ch:8443', 'version': 'development', 'accept_type': 'text/html', 'key': '/tmp/x509up_u8516', 'userAgent': 'CRABtestSB', 'conn': <WMCore.Services.pycurl_manager.RequestHandler object at 0x7f379f1e4c50>, 'verbose': False}\n"
     ]
    }
   ],
   "source": [
    "hostname = 'cmsweb-testbed'\n",
    "instance = 'preprod'\n",
    "host = hostname + '.cern.ch:8443'\n",
    "uriNoApi = '/crabserver/' + instance + '/'\n",
    "server = HTTPRequests(host, proxy, proxy, userAgent='CRABtestSB')\n",
    "print(server)"
   ]
  },
  {
   "cell_type": "code",
   "execution_count": 94,
   "metadata": {},
   "outputs": [
    {
     "name": "stdout",
     "output_type": "stream",
     "text": [
      "uri: /crabserver/preprod//info\n",
      "({u'result': [{u'crabserver': u'Welcome', u'version': u'development'}], u'desc': {u'columns': [u'null']}}, 200, 'OK')\n"
     ]
    }
   ],
   "source": [
    "api = '/info'\n",
    "uri = uriNoApi + api\n",
    "print(\"uri: %s\"% uri)\n",
    "res = server.get(uri)\n",
    "print(res)"
   ]
  },
  {
   "cell_type": "code",
   "execution_count": 103,
   "metadata": {},
   "outputs": [
    {
     "name": "stdout",
     "output_type": "stream",
     "text": [
      "({u'result': []}, 200, 'OK')\n"
     ]
    }
   ],
   "source": [
    "# test upload WebDir\n",
    "api = 'task'\n",
    "uri = uriNoApi + api\n",
    "subresource = 'addwebdir'\n",
    "data = {'subresource': subresource}\n",
    "data['workflow'] = '210318_133054:belforte_crab_20210318_143048'\n",
    "data['webdirurl'] = 'http://vocms059.cern.ch/mon/cms1627/210318_133054:belforte_crab_20210318_143048'\n",
    "res = server.post(uri, data=urllib.urlencode(data))\n",
    "print(res)"
   ]
  },
  {
   "cell_type": "code",
   "execution_count": 104,
   "metadata": {},
   "outputs": [],
   "source": [
    "# input file metadata from PostJob log\n",
    "ifm=[('outlfn', u'/store/mc/HC/GenericTTbar/AODSIM/CMSSW_9_2_6_91X_mcRun1_realistic_v2-v2/00000/8ADD04E5-1776-E711-A1BA-FA163E6741E0.root_1'), ('outdatasetname', '/FakeDataset/fakefile-FakePublish-5b6a581e4ddd41b130711a045d5fecb9/USER'), ('globalTag', 'None'), ('outsize', '0'), ('checksumcksum', '0'), ('checksumadler32', '0'), ('jobid', '1'), ('outtmplfn', '/store/temp/user/belforte.be1f4dc5be8664cbd145bf008f5399adf42b086f/GenericTTbar/Stefano-Test-210317/210318_171955/0000'), ('appver', 'CMSSW_10_6_12'), ('outtype', 'POOLIN'), ('checksummd5', '0'), ('publishdataname', 'Stefano-Test-210317-00000000000000000000000000000000'), ('events', 300), ('taskname', '210318_171955:belforte_crab_20210318_181949'), ('acquisitionera', 'null'), ('outtmplocation', u'T2_IT_Bari'), ('outlocation', 'T2_CH_CERN'), ('directstageout', 0), ('outfileruns', '1'), ('outfilelumis', '1920')]\n"
   ]
  },
  {
   "cell_type": "code",
   "execution_count": 112,
   "metadata": {},
   "outputs": [],
   "source": [
    "# corresponding urlencoded data form PostJob log\n",
    "PJdata='outlfn=%2Fstore%2Fmc%2FHC%2FGenericTTbar%2FAODSIM%2FCMSSW_9_2_6_91X_mcRun1_realistic_v2-v2%2F00000%2F8ADD04E5-1776-E711-A1BA-FA163E6741E0.rootS_1&outdatasetname=%2FFakeDataset%2Ffakefile-FakePublish-5b6a581e4ddd41b130711a045d5fecb9%2FUSER&globalTag=None&outsize=0&checksumcksum=0&checksumadler32=0&jobid=1&outtmplfn=%2Fstore%2Ftemp%2Fuser%2Fbelforte.be1f4dc5be8664cbd145bf008f5399adf42b086f%2FGenericTTbar%2FStefano-Test-210317%2F210318_171955%2F0000&appver=CMSSW_10_6_12&outtype=POOLIN&checksummd5=0&publishdataname=Stefano-Test-210317-00000000000000000000000000000000&events=300&taskname=210318_171955%3Abelforte_crab_20210318_181949&acquisitionera=null&outtmplocation=T2_IT_Bari&outlocation=T2_CH_CERN&directstageout=0&outfileruns=1&outfilelumis=1920'\n"
   ]
  },
  {
   "cell_type": "code",
   "execution_count": 113,
   "metadata": {},
   "outputs": [
    {
     "name": "stdout",
     "output_type": "stream",
     "text": [
      "outlfn=/store/mc/HC/GenericTTbar/AODSIM/CMSSW_9_2_6_91X_mcRun1_realistic_v2-v2/00000/8ADD04E5-1776-E711-A1BA-FA163E6741E0.rootS_1&outdatasetname=/FakeDataset/fakefile-FakePublish-5b6a581e4ddd41b130711a045d5fecb9/USER&globalTag=None&outsize=0&checksumcksum=0&checksumadler32=0&jobid=1&outtmplfn=/store/temp/user/belforte.be1f4dc5be8664cbd145bf008f5399adf42b086f/GenericTTbar/Stefano-Test-210317/210318_171955/0000&appver=CMSSW_10_6_12&outtype=POOLIN&checksummd5=0&publishdataname=Stefano-Test-210317-00000000000000000000000000000000&events=300&taskname=210318_171955:belforte_crab_20210318_181949&acquisitionera=null&outtmplocation=T2_IT_Bari&outlocation=T2_CH_CERN&directstageout=0&outfileruns=1&outfilelumis=1920\n"
     ]
    }
   ],
   "source": [
    "# unquoted data\n",
    "uPJdata=urllib.unquote_plus(PJdata)\n",
    "print(uPJdata)"
   ]
  },
  {
   "cell_type": "code",
   "execution_count": 114,
   "metadata": {},
   "outputs": [
    {
     "name": "stdout",
     "output_type": "stream",
     "text": [
      "{'acquisitionera': ['null'],\n",
      " 'appver': ['CMSSW_10_6_12'],\n",
      " 'checksumadler32': ['0'],\n",
      " 'checksumcksum': ['0'],\n",
      " 'checksummd5': ['0'],\n",
      " 'directstageout': ['0'],\n",
      " 'events': ['300'],\n",
      " 'globalTag': ['None'],\n",
      " 'jobid': ['1'],\n",
      " 'outdatasetname': ['/FakeDataset/fakefile-FakePublish-5b6a581e4ddd41b130711a045d5fecb9/USER'],\n",
      " 'outfilelumis': ['1920'],\n",
      " 'outfileruns': ['1'],\n",
      " 'outlfn': ['/store/mc/HC/GenericTTbar/AODSIM/CMSSW_9_2_6_91X_mcRun1_realistic_v2-v2/00000/8ADD04E5-1776-E711-A1BA-FA163E6741E0.rootS_1'],\n",
      " 'outlocation': ['T2_CH_CERN'],\n",
      " 'outsize': ['0'],\n",
      " 'outtmplfn': ['/store/temp/user/belforte.be1f4dc5be8664cbd145bf008f5399adf42b086f/GenericTTbar/Stefano-Test-210317/210318_171955/0000'],\n",
      " 'outtmplocation': ['T2_IT_Bari'],\n",
      " 'outtype': ['POOLIN'],\n",
      " 'publishdataname': ['Stefano-Test-210317-00000000000000000000000000000000'],\n",
      " 'taskname': ['210318_171955:belforte_crab_20210318_181949']}\n"
     ]
    }
   ],
   "source": [
    "# decoded (parsed) data\n",
    "import urlparse\n",
    "import pprint\n",
    "pPJdata=urlparse.parse_qs(PJdata)\n",
    "pprint.pprint(pPJdata)"
   ]
  },
  {
   "cell_type": "code",
   "execution_count": 117,
   "metadata": {},
   "outputs": [
    {
     "name": "stdout",
     "output_type": "stream",
     "text": [
      "({u'result': [], u'desc': {u'columns': [u'fmd_lfn']}}, 200, 'OK')\n"
     ]
    }
   ],
   "source": [
    "#test upload file metadata\n",
    "# note that it this file is alredy in DB it will simply update it, changing the SQL query automatically\n",
    "# to make sure to test an INSERT must use a new filename every time.\n",
    "api = 'filemetadata'\n",
    "uri = uriNoApi + api\n",
    "res = server.put(uri, PJdata)\n",
    "print(res)"
   ]
  },
  {
   "cell_type": "code",
   "execution_count": null,
   "metadata": {},
   "outputs": [],
   "source": []
  }
 ],
 "metadata": {
  "kernelspec": {
   "display_name": "Python 2",
   "language": "python",
   "name": "python2"
  },
  "language_info": {
   "codemirror_mode": {
    "name": "ipython",
    "version": 2
   },
   "file_extension": ".py",
   "mimetype": "text/x-python",
   "name": "python",
   "nbconvert_exporter": "python",
   "pygments_lexer": "ipython2",
   "version": "2.7.14+"
  }
 },
 "nbformat": 4,
 "nbformat_minor": 2
}
