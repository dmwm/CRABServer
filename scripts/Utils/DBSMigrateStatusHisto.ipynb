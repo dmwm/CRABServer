{
 "cells": [
  {
   "cell_type": "markdown",
   "id": "53498e4b",
   "metadata": {},
   "source": [
    "Generate the data with\n",
    "\n",
    "```bash\n",
    "curl -L --key $X509_USER_PROXY --cert $X509_USER_PROXY \"https://cmsweb-prod.cern.ch/dbs/prod/phys03/DBSMigrate/status?migration_status=9\" > status9.json\n",
    "curl -L --key $X509_USER_PROXY --cert $X509_USER_PROXY \"https://cmsweb-prod.cern.ch/dbs/prod/phys03/DBSMigrate/status?migration_status=2\" > status2.json\n",
    "```\n",
    "\n",
    "the second query can take ~1m to complete and the output is about 300MB"
   ]
  },
  {
   "cell_type": "code",
   "execution_count": 68,
   "id": "518fd2bb",
   "metadata": {},
   "outputs": [],
   "source": [
    "import json\n",
    "import datetime\n",
    "from matplotlib import pyplot as plt\n"
   ]
  },
  {
   "cell_type": "code",
   "execution_count": 86,
   "id": "80236185",
   "metadata": {},
   "outputs": [
    {
     "name": "stdout",
     "output_type": "stream",
     "text": [
      "{'create_by': '/DC=ch/DC=cern/OU=computers/CN=tw/crab-prod-tw01.cern.ch', 'creation_date': 1661451867, 'last_modification_date': 1661452302, 'last_modified_by': '/DC=ch/DC=cern/OU=computers/CN=tw/crab-prod-tw01.cern.ch', 'migration_input': '/EphemeralZeroBias2/Run2022C-v1/RAW#9b48afb1-8ceb-4b83-b6f8-bfcd54491035', 'migration_request_id': 3327134, 'migration_server': 'dbs2go-phys03-m-7c46cb85d-w9mtj', 'migration_status': 9, 'migration_url': 'https://cmsweb-prod.cern.ch:8443/dbs/prod/global/DBSReader', 'retry_count': 3, 'creation_date_string': datetime.datetime(2022, 8, 25, 20, 24, 27)}\n"
     ]
    },
    {
     "data": {
      "text/plain": [
       "(array([19220., 19221., 19222., 19223., 19224., 19225., 19226., 19227.,\n",
       "        19228., 19229., 19230.]),\n",
       " [Text(0, 0, ''),\n",
       "  Text(0, 0, ''),\n",
       "  Text(0, 0, ''),\n",
       "  Text(0, 0, ''),\n",
       "  Text(0, 0, ''),\n",
       "  Text(0, 0, ''),\n",
       "  Text(0, 0, ''),\n",
       "  Text(0, 0, ''),\n",
       "  Text(0, 0, ''),\n",
       "  Text(0, 0, ''),\n",
       "  Text(0, 0, '')])"
      ]
     },
     "execution_count": 86,
     "metadata": {},
     "output_type": "execute_result"
    },
    {
     "data": {
      "image/png": "[encoded data removed]",
      "text/plain": [
       "<Figure size 432x288 with 1 Axes>"
      ]
     },
     "metadata": {
      "needs_background": "light"
     },
     "output_type": "display_data"
    }
   ],
   "source": [
    "with open(\"status9.json\") as f:\n",
    "    s9 = json.load(f)\n",
    "s9=sorted(s9, key=lambda x: x[\"creation_date\"])\n",
    "\n",
    "\n",
    "def date_string(x):\n",
    "    x[\"creation_date_string\"] = datetime.datetime.fromtimestamp(x[\"creation_date\"])\n",
    "\n",
    "_ = list(map(date_string , s9))\n",
    "\n",
    "print(s9[-1])\n",
    "\n",
    "d9 = list(map(lambda x: x[\"creation_date_string\"], s9))\n",
    "d9 = d9[-1000:]\n",
    "\n",
    "plt.hist(d9)\n",
    "plt.xticks(rotation = 45)"
   ]
  },
  {
   "cell_type": "code",
   "execution_count": 89,
   "id": "e499cdcd",
   "metadata": {},
   "outputs": [
    {
     "name": "stdout",
     "output_type": "stream",
     "text": [
      "{'create_by': '/DC=ch/DC=cern/OU=computers/CN=tw/crab-prod-tw01.cern.ch', 'creation_date': 1661530675, 'last_modification_date': 1661530675, 'last_modified_by': '/DC=ch/DC=cern/OU=computers/CN=tw/crab-prod-tw01.cern.ch', 'migration_input': '/Wprimetotb_M3000W30_RH_TuneCP5_13TeV-madgraph-pythia8/RunIIAutumn18MiniAOD-102X_upgrade2018_realistic_v15-v1/MINIAODSIM#178b5cd8-a070-49e1-a012-2329f508fbfb', 'migration_request_id': 3336112, 'migration_server': 'dbs2go-phys03-migration-68f77448b4-5qktj', 'migration_status': 2, 'migration_url': 'https://cmsweb-prod.cern.ch:8443/dbs/prod/global/DBSReader', 'retry_count': 0, 'creation_date_string': datetime.datetime(2022, 8, 26, 18, 17, 55)}\n"
     ]
    },
    {
     "data": {
      "text/plain": [
       "(array([19230.5       , 19230.54166667, 19230.58333333, 19230.625     ,\n",
       "        19230.66666667, 19230.70833333, 19230.75      ]),\n",
       " [Text(0, 0, ''),\n",
       "  Text(0, 0, ''),\n",
       "  Text(0, 0, ''),\n",
       "  Text(0, 0, ''),\n",
       "  Text(0, 0, ''),\n",
       "  Text(0, 0, ''),\n",
       "  Text(0, 0, '')])"
      ]
     },
     "execution_count": 89,
     "metadata": {},
     "output_type": "execute_result"
    },
    {
     "data": {
      "image/png": "[encoded data removed]",
      "text/plain": [
       "<Figure size 432x288 with 1 Axes>"
      ]
     },
     "metadata": {
      "needs_background": "light"
     },
     "output_type": "display_data"
    }
   ],
   "source": [
    "with open(\"status2.json\") as f:\n",
    "    s2 = json.load(f)\n",
    "s2=sorted(s2, key=lambda x: x[\"creation_date\"])\n",
    "\n",
    "_ = list(map(date_string , s2))\n",
    "\n",
    "print(s2[-1])\n",
    "\n",
    "d2 = list(map(lambda x: x[\"creation_date_string\"], s2))\n",
    "d2 = d2[-100:]\n",
    "\n",
    "plt.hist(d2)\n",
    "plt.xticks(rotation = 45)"
   ]
  },
  {
   "cell_type": "markdown",
   "id": "b4bb88ce",
   "metadata": {},
   "source": [
    "## curl\n",
    "\n",
    "instead of loading the json, you can use directly requests, as you wish\n"
   ]
  },
  {
   "cell_type": "code",
   "execution_count": 58,
   "id": "0bd6a568",
   "metadata": {},
   "outputs": [],
   "source": [
    "import requests\n",
    "import os"
   ]
  },
  {
   "cell_type": "code",
   "execution_count": 62,
   "id": "6d395bf8",
   "metadata": {},
   "outputs": [],
   "source": [
    "proxy = os.getenv(\"X509_USER_PROXY\")"
   ]
  },
  {
   "cell_type": "code",
   "execution_count": 64,
   "id": "9feeac72",
   "metadata": {},
   "outputs": [
    {
     "name": "stderr",
     "output_type": "stream",
     "text": [
      "/cvmfs/cms.cern.ch/cs8_amd64_gcc10/external/py3-urllib3/1.26.6-f0f3aed6897101af71b7f32244697c43/lib/python3.9/site-packages/urllib3/connectionpool.py:1013: InsecureRequestWarning: Unverified HTTPS request is being made to host 'cmsweb-prod.cern.ch'. Adding certificate verification is strongly advised. See: https://urllib3.readthedocs.io/en/1.26.x/advanced-usage.html#ssl-warnings\n",
      "  warnings.warn(\n"
     ]
    }
   ],
   "source": [
    "r = requests.get(\"https://cmsweb-prod.cern.ch/dbs/prod/phys03/DBSMigrate/status?migration_status=9\", \n",
    "                 cert=(proxy, proxy), verify=False\n",
    "                )\n"
   ]
  },
  {
   "cell_type": "code",
   "execution_count": 88,
   "id": "bbedbd02",
   "metadata": {},
   "outputs": [
    {
     "data": {
      "text/plain": [
       "[{'create_by': 'service@crab-prod-tw01.cern.ch',\n",
       "  'creation_date': 1658391467,\n",
       "  'last_modification_date': 1658391906,\n",
       "  'last_modified_by': 'service@crab-prod-tw01.cern.ch',\n",
       "  'migration_input': '/WminusHToTauTau_M125_TuneCP5_13TeV-powheg-pythia8/RunIISummer20UL18MiniAODv2-106X_upgrade2018_realistic_v16_L1v1-v2/MINIAODSIM#b96d8b3f-9911-4280-8c10-16d5ba8684a3',\n",
       "  'migration_request_id': 3306962,\n",
       "  'migration_server': None,\n",
       "  'migration_status': 9,\n",
       "  'migration_url': 'https://cmsweb-prod.cern.ch:8443/dbs/prod/global/DBSReader',\n",
       "  'retry_count': 3},\n",
       " {'create_by': 'service@crab-prod-tw01.cern.ch',\n",
       "  'creation_date': 1658391477,\n",
       "  'last_modification_date': 1658391908,\n",
       "  'last_modified_by': 'service@crab-prod-tw01.cern.ch',\n",
       "  'migration_input': '/ZH_HToBB_ZToQQ_M-125_TuneCP5_13TeV-powheg-pythia8/RunIISummer20UL18MiniAODv2-106X_upgrade2018_realistic_v16_L1v1-v2/MINIAODSIM#22815805-7afa-4ed9-90f6-62441f4c6e3c',\n",
       "  'migration_request_id': 3306964,\n",
       "  'migration_server': None,\n",
       "  'migration_status': 9,\n",
       "  'migration_url': 'https://cmsweb-prod.cern.ch:8443/dbs/prod/global/DBSReader',\n",
       "  'retry_count': 3},\n",
       " {'create_by': 'service@crab-prod-tw01.cern.ch',\n",
       "  'creation_date': 1658391478,\n",
       "  'last_modification_date': 1658391913,\n",
       "  'last_modified_by': 'service@crab-prod-tw01.cern.ch',\n",
       "  'migration_input': '/ZH_HToBB_ZToQQ_M-125_TuneCP5_13TeV-powheg-pythia8/RunIISummer20UL18MiniAODv2-106X_upgrade2018_realistic_v16_L1v1-v2/MINIAODSIM#cef9ba78-75e9-4ff0-a0f0-89b3ababa24a',\n",
       "  'migration_request_id': 3306969,\n",
       "  'migration_server': None,\n",
       "  'migration_status': 9,\n",
       "  'migration_url': 'https://cmsweb-prod.cern.ch:8443/dbs/prod/global/DBSReader',\n",
       "  'retry_count': 3},\n",
       " {'create_by': 'service@crab-prod-tw01.cern.ch',\n",
       "  'creation_date': 1658391479,\n",
       "  'last_modification_date': 1658391914,\n",
       "  'last_modified_by': 'service@crab-prod-tw01.cern.ch',\n",
       "  'migration_input': '/ZH_HToBB_ZToQQ_M-125_TuneCP5_13TeV-powheg-pythia8/RunIISummer20UL18MiniAODv2-106X_upgrade2018_realistic_v16_L1v1-v2/MINIAODSIM#8edd60d3-4167-41b1-9a83-ec8f6f8f9865',\n",
       "  'migration_request_id': 3306974,\n",
       "  'migration_server': None,\n",
       "  'migration_status': 9,\n",
       "  'migration_url': 'https://cmsweb-prod.cern.ch:8443/dbs/prod/global/DBSReader',\n",
       "  'retry_count': 3},\n",
       " {'create_by': 'service@crab-prod-tw01.cern.ch',\n",
       "  'creation_date': 1658391868,\n",
       "  'last_modification_date': 1658392300,\n",
       "  'last_modified_by': 'service@crab-prod-tw01.cern.ch',\n",
       "  'migration_input': '/DYJetsToLL_LHEFilterPtZ-250To400_MatchEWPDG20_TuneCP5_13TeV-amcatnloFXFX-pythia8/RunIISummer20UL18MiniAODv2-106X_upgrade2018_realistic_v16_L1v1-v2/MINIAODSIM#608d26e9-3dfd-472c-851d-fd9788274f3d',\n",
       "  'migration_request_id': 3306985,\n",
       "  'migration_server': None,\n",
       "  'migration_status': 9,\n",
       "  'migration_url': 'https://cmsweb-prod.cern.ch:8443/dbs/prod/global/DBSReader',\n",
       "  'retry_count': 3},\n",
       " {'create_by': 'service@crab-prod-tw01.cern.ch',\n",
       "  'creation_date': 1658391869,\n",
       "  'last_modification_date': 1658392305,\n",
       "  'last_modified_by': 'service@crab-prod-tw01.cern.ch',\n",
       "  'migration_input': '/DYJetsToLL_LHEFilterPtZ-250To400_MatchEWPDG20_TuneCP5_13TeV-amcatnloFXFX-pythia8/RunIISummer20UL18MiniAODv2-106X_upgrade2018_realistic_v16_L1v1-v2/MINIAODSIM#0815d613-0d3c-4c49-b8f8-6577eb13c356',\n",
       "  'migration_request_id': 3306988,\n",
       "  'migration_server': None,\n",
       "  'migration_status': 9,\n",
       "  'migration_url': 'https://cmsweb-prod.cern.ch:8443/dbs/prod/global/DBSReader',\n",
       "  'retry_count': 3},\n",
       " {'create_by': 'service@crab-prod-tw01.cern.ch',\n",
       "  'creation_date': 1658391870,\n",
       "  'last_modification_date': 1658392305,\n",
       "  'last_modified_by': 'service@crab-prod-tw01.cern.ch',\n",
       "  'migration_input': '/DYJetsToLL_LHEFilterPtZ-250To400_MatchEWPDG20_TuneCP5_13TeV-amcatnloFXFX-pythia8/RunIISummer20UL18MiniAODv2-106X_upgrade2018_realistic_v16_L1v1-v2/MINIAODSIM#327fbf4a-f807-4342-b627-828f0bb7f842',\n",
       "  'migration_request_id': 3306992,\n",
       "  'migration_server': None,\n",
       "  'migration_status': 9,\n",
       "  'migration_url': 'https://cmsweb-prod.cern.ch:8443/dbs/prod/global/DBSReader',\n",
       "  'retry_count': 3},\n",
       " {'create_by': 'service@crab-prod-tw01.cern.ch',\n",
       "  'creation_date': 1658391870,\n",
       "  'last_modification_date': 1658392311,\n",
       "  'last_modified_by': 'service@crab-prod-tw01.cern.ch',\n",
       "  'migration_input': '/DYJetsToLL_LHEFilterPtZ-250To400_MatchEWPDG20_TuneCP5_13TeV-amcatnloFXFX-pythia8/RunIISummer20UL18MiniAODv2-106X_upgrade2018_realistic_v16_L1v1-v2/MINIAODSIM#a8d31b3a-d6e5-4324-9572-12af58615fac',\n",
       "  'migration_request_id': 3306997,\n",
       "  'migration_server': None,\n",
       "  'migration_status': 9,\n",
       "  'migration_url': 'https://cmsweb-prod.cern.ch:8443/dbs/prod/global/DBSReader',\n",
       "  'retry_count': 3},\n",
       " {'create_by': 'service@crab-prod-tw01.cern.ch',\n",
       "  'creation_date': 1658391871,\n",
       "  'last_modification_date': 1658392316,\n",
       "  'last_modified_by': 'service@crab-prod-tw01.cern.ch',\n",
       "  'migration_input': '/DYJetsToLL_LHEFilterPtZ-250To400_MatchEWPDG20_TuneCP5_13TeV-amcatnloFXFX-pythia8/RunIISummer20UL18MiniAODv2-106X_upgrade2018_realistic_v16_L1v1-v2/MINIAODSIM#af18e5c9-d25b-4805-86f2-05dd46c1c892',\n",
       "  'migration_request_id': 3307000,\n",
       "  'migration_server': None,\n",
       "  'migration_status': 9,\n",
       "  'migration_url': 'https://cmsweb-prod.cern.ch:8443/dbs/prod/global/DBSReader',\n",
       "  'retry_count': 3},\n",
       " {'create_by': 'service@crab-prod-tw01.cern.ch',\n",
       "  'creation_date': 1658392347,\n",
       "  'last_modification_date': 1658392775,\n",
       "  'last_modified_by': 'service@crab-prod-tw01.cern.ch',\n",
       "  'migration_input': '/GluGluToHHTo2B2Tau_TuneCP5_PSWeights_node_SM_13TeV-madgraph-pythia8/RunIISummer20UL18MiniAODv2-106X_upgrade2018_realistic_v16_L1v1-v2/MINIAODSIM#0a35e593-e4e8-4849-b231-33995ea3b1f7',\n",
       "  'migration_request_id': 3307016,\n",
       "  'migration_server': None,\n",
       "  'migration_status': 9,\n",
       "  'migration_url': 'https://cmsweb-prod.cern.ch:8443/dbs/prod/global/DBSReader',\n",
       "  'retry_count': 3}]"
      ]
     },
     "execution_count": 88,
     "metadata": {},
     "output_type": "execute_result"
    }
   ],
   "source": [
    "r.json()[-10:]"
   ]
  },
  {
   "cell_type": "code",
   "execution_count": 85,
   "id": "c345c6c8",
   "metadata": {},
   "outputs": [],
   "source": [
    "# Takes too much time\n",
    "# r2 = requests.get(\"https://cmsweb-prod.cern.ch/dbs/prod/phys03/DBSMigrate/status?migration_status=2\", \n",
    "#                 cert=(proxy, proxy), verify=False\n",
    "#                )"
   ]
  },
  {
   "cell_type": "code",
   "execution_count": null,
   "id": "602d561e",
   "metadata": {},
   "outputs": [],
   "source": []
  }
 ],
 "metadata": {
  "kernelspec": {
   "display_name": "Python 3 (ipykernel)",
   "language": "python",
   "name": "python3"
  },
  "language_info": {
   "codemirror_mode": {
    "name": "ipython",
    "version": 3
   },
   "file_extension": ".py",
   "mimetype": "text/x-python",
   "name": "python",
   "nbconvert_exporter": "python",
   "pygments_lexer": "ipython3",
   "version": "3.9.6"
  }
 },
 "nbformat": 4,
 "nbformat_minor": 5
}
